{
 "cells": [
  {
   "cell_type": "markdown",
   "metadata": {},
   "source": [
    "# SOFIA data retrieval\n",
    "-------------------\n",
    "**Aim**: Download SOFIA data through the Infrared Science Archive (IRSA)<br />\n",
    "**Data**: 30 Doradus HAWC+ public dataset<br />\n",
    "**Tools**: <br />\n",
    "**Instrument**: All<br />\n",
    "**Documentation**: [Science Archive](https://www.sofia.usra.edu/data/science-archive).<br />"
   ]
  },
  {
   "cell_type": "markdown",
   "metadata": {},
   "source": [
    "## Introduction\n",
    "In this `jupyter` recipe, we explain how to download SOFIA data through the Infrared Science Archive (IRSA).\n",
    "\n",
    "This cookbook recipe follows the SOFIA press release of 30 Doradus observations: [SOFIA Reveals Never-Before-Seen Magnetic Field Details](https://www.sofia.usra.edu/multimedia/science-results-archive/sofia-reveals-never-seen-magnetic-field-details).\n",
    "\n",
    "The Level 4 reduced data from this program has been released immediately to the public and is available on the Infrared Science Archive [(IRSA)](https://irsa.ipac.caltech.edu/Missions/sofia.html).  This notebook will guide the reader through downloading the 30 Doradus data manually through the ISRA website."
   ]
  },
  {
   "cell_type": "markdown",
   "metadata": {},
   "source": [
    "## Goals:\n",
    "* Download data manually through the ISRA website\n",
    "* Explore file structure"
   ]
  },
  {
   "cell_type": "markdown",
   "metadata": {},
   "source": [
    "## Downloading HAWC+ Data\n",
    "\n",
    "- Fill in the following fields\n",
    "- Spatial constraints:\n",
    "  - Coordinates or object name: `30 Dor` from drop-down menu\n",
    "  - Radius: `600 arcseconds`\n",
    "- Click on the arrow next to Observation Constraints to open the drop-down options. \n",
    "- Observation Constraints:\n",
    "  - Observation Date: From: `2018-01-01` To: `2019-01-01`\n",
    "- Instrument Constraints\n",
    "  - Select `HAWC+`\n",
    "- Data Product Constraints:\n",
    "  - Processing Level: `Level 4`\n",
    "  - Click the `Search` button\n",
    "- After the results load, select the checkboxes next to the Column header AOR ID to select all data files. All files should now have a blue check indicating selection. \n",
    "- Click `Prepare Download`\n",
    "- Fill in Title as `HAWC+_example_data`\n",
    "- Click `Prepare Download`\n",
    "- After a few minutes, the data will be downloaded locally.\n",
    "- For more information, consult the [HAWC+ Data Handbook](https://www.sofia.usra.edu/sites/default/files/Instruments/HAWC_PLUS/Documents/hawc_data_handbook.pdf)."
   ]
  },
  {
   "cell_type": "markdown",
   "metadata": {},
   "source": [
    "![ISRA Search Results](../figs/isra_results.png)"
   ]
  },
  {
   "cell_type": "markdown",
   "metadata": {},
   "source": [
    "The results will show files (fits) including descriptions of the file metadata. Included in this metadata is the \"Quality Assurance\" comments (shown with the red ellipse) with specific notes from the instrument scientists during the observations. These include notes about data quality, observing complications, and if the observations was an aquisition observations. "
   ]
  },
  {
   "cell_type": "markdown",
   "metadata": {},
   "source": [
    "## SOFIA Data Organization\n",
    "After downloading the SOFIA data to your working directory you will want to unzip it, which will produce a directory structure like this:"
   ]
  },
  {
   "cell_type": "markdown",
   "metadata": {},
   "source": [
    "```console\n",
    ".\n",
    "└── HAWC+_example_data\n",
    "    ├── level4\n",
    "    │   └── p5813\n",
    "    │       └── F0484_HA_POL_7600018_HAWCHWPC_PMP_022-114.fits\n",
    "    └── missions\n",
    "        ├── 2018-07-05_HA_F481\n",
    "        │   └── p5827\n",
    "        │       └── F0481_HA_POL_7600012_HAWDHWPD_PMP_050-083.fits\n",
    "        ├── 2018-07-07_HA_F483\n",
    "        │   └── p5646\n",
    "        │       └── F0483_HA_POL_7600014_HAWCHWPC_PMP_022-065.fits\n",
    "        ├── 2018-07-11_HA_F484\n",
    "        │   └── p5648\n",
    "        │       └── F0484_HA_POL_7600017_HAWCHWPC_PMP_065-114.fits\n",
    "        └── 2018-07-12_HA_F485\n",
    "            └── p5658\n",
    "                ├── g1\n",
    "                │   └── F0485_HA_POL_76000110_HAWAHWPA_PMP_043-052.fits\n",
    "                └── g2\n",
    "                    └── F0485_HA_POL_7600019_HAWEHWPE_PMP_055-075.fits\n",
    "```"
   ]
  },
  {
   "cell_type": "markdown",
   "metadata": {},
   "source": [
    "Note the following features of this data bundle.\n",
    "\n",
    "- Each `fits` file in the 'missions' directory corresponds to data from a single AOR (or a different filter element) obtained on a single flight\n",
    "- Each subdirectory under missions corresponds to a single flight\n",
    "- `fits` files under 'level4' correspond to data combined from several flights\n",
    "- If multiple filters were observed on the same flight, they will be further divided into subdirectories (g1/g2 on the last line)\n",
    "\n",
    "Note that two observations were made with the same filter (HAWC C, $89\\,\\mathrm{\\mu m}$).  These files, `F0483_HA_POL_7600014_HAWCHWPC_PMP_022-065.fits` and `F0484_HA_POL_7600017_HAWCHWPC_PMP_065-114.fits`, were combined into one:\n",
    "\n",
    "`level4->p5813->F0484_HA_POL_7600018_HAWCHWPC_PMP_022-114.fits`."
   ]
  },
  {
   "cell_type": "markdown",
   "metadata": {},
   "source": [
    "You can choose to keep the `fits` files nested, or copy them into one directory."
   ]
  },
  {
   "cell_type": "markdown",
   "metadata": {},
   "source": [
    "```console\n",
    ".\n",
    "└── sofia_data\n",
    "    ├── F0481_HA_POL_7600012_HAWDHWPD_PMP_050-083.fits\n",
    "    ├── F0483_HA_POL_7600014_HAWCHWPC_PMP_022-065.fits\n",
    "    ├── F0484_HA_POL_7600017_HAWCHWPC_PMP_065-114.fits\n",
    "    ├── F0484_HA_POL_7600018_HAWCHWPC_PMP_022-114.fits\n",
    "    ├── F0485_HA_POL_76000110_HAWAHWPA_PMP_043-052.fits\n",
    "    └── F0485_HA_POL_7600019_HAWEHWPE_PMP_055-075.fits\n",
    "```"
   ]
  },
  {
   "cell_type": "code",
   "execution_count": 12,
   "metadata": {},
   "outputs": [
    {
     "ename": "HTTPError",
     "evalue": "404 Client Error: Not Found for url: https://irsa.ipac.caltech.edu/ibe/search/sofia/sofia.plane/level1?INTERSECT=OVERLAPS&POS=295.487834%2C16.744345",
     "output_type": "error",
     "traceback": [
      "\u001b[0;31m---------------------------------------------------------------------------\u001b[0m",
      "\u001b[0;31mHTTPError\u001b[0m                                 Traceback (most recent call last)",
      "\u001b[0;32m/var/folders/x1/07_d_fd56113sngzxwlvmwxc0000gq/T/ipykernel_12311/2410217391.py\u001b[0m in \u001b[0;36m<module>\u001b[0;34m\u001b[0m\n\u001b[1;32m      1\u001b[0m \u001b[0;32mfrom\u001b[0m \u001b[0mastroquery\u001b[0m\u001b[0;34m.\u001b[0m\u001b[0mipac\u001b[0m\u001b[0;34m.\u001b[0m\u001b[0mirsa\u001b[0m\u001b[0;34m.\u001b[0m\u001b[0mibe\u001b[0m \u001b[0;32mimport\u001b[0m \u001b[0mIbe\u001b[0m\u001b[0;34m\u001b[0m\u001b[0;34m\u001b[0m\u001b[0m\n\u001b[1;32m      2\u001b[0m \u001b[0mIbe\u001b[0m\u001b[0;34m.\u001b[0m\u001b[0mlist_tables\u001b[0m\u001b[0;34m(\u001b[0m\u001b[0;34m'sofia'\u001b[0m\u001b[0;34m,\u001b[0m\u001b[0;34m'sofia.plane'\u001b[0m\u001b[0;34m)\u001b[0m\u001b[0;34m\u001b[0m\u001b[0;34m\u001b[0m\u001b[0m\n\u001b[0;32m----> 3\u001b[0;31m \u001b[0mIbe\u001b[0m\u001b[0;34m.\u001b[0m\u001b[0mquery_region\u001b[0m\u001b[0;34m(\u001b[0m\u001b[0mcoordinate\u001b[0m\u001b[0;34m=\u001b[0m\u001b[0;34m'19:41:57.080, 16:44:39.64'\u001b[0m\u001b[0;34m,\u001b[0m \u001b[0mmission\u001b[0m\u001b[0;34m=\u001b[0m\u001b[0;34m'sofia'\u001b[0m\u001b[0;34m,\u001b[0m \u001b[0mdataset\u001b[0m\u001b[0;34m=\u001b[0m\u001b[0;34m'sofia.plane'\u001b[0m\u001b[0;34m)\u001b[0m\u001b[0;34m\u001b[0m\u001b[0;34m\u001b[0m\u001b[0m\n\u001b[0m",
      "\u001b[0;32m~/opt/anaconda3/lib/python3.9/site-packages/astroquery/ipac/irsa/ibe/core.py\u001b[0m in \u001b[0;36mquery_region\u001b[0;34m(self, coordinate, where, mission, dataset, table, columns, width, height, intersect, most_centered)\u001b[0m\n\u001b[1;32m    104\u001b[0m \u001b[0;34m\u001b[0m\u001b[0m\n\u001b[1;32m    105\u001b[0m         \u001b[0;31m# Raise exception, if request failed\u001b[0m\u001b[0;34m\u001b[0m\u001b[0;34m\u001b[0m\u001b[0m\n\u001b[0;32m--> 106\u001b[0;31m         \u001b[0mresponse\u001b[0m\u001b[0;34m.\u001b[0m\u001b[0mraise_for_status\u001b[0m\u001b[0;34m(\u001b[0m\u001b[0;34m)\u001b[0m\u001b[0;34m\u001b[0m\u001b[0;34m\u001b[0m\u001b[0m\n\u001b[0m\u001b[1;32m    107\u001b[0m \u001b[0;34m\u001b[0m\u001b[0m\n\u001b[1;32m    108\u001b[0m         \u001b[0;32mreturn\u001b[0m \u001b[0mTable\u001b[0m\u001b[0;34m.\u001b[0m\u001b[0mread\u001b[0m\u001b[0;34m(\u001b[0m\u001b[0mresponse\u001b[0m\u001b[0;34m.\u001b[0m\u001b[0mtext\u001b[0m\u001b[0;34m,\u001b[0m \u001b[0mformat\u001b[0m\u001b[0;34m=\u001b[0m\u001b[0;34m'ipac'\u001b[0m\u001b[0;34m,\u001b[0m \u001b[0mguess\u001b[0m\u001b[0;34m=\u001b[0m\u001b[0;32mFalse\u001b[0m\u001b[0;34m)\u001b[0m\u001b[0;34m\u001b[0m\u001b[0;34m\u001b[0m\u001b[0m\n",
      "\u001b[0;32m~/opt/anaconda3/lib/python3.9/site-packages/requests/models.py\u001b[0m in \u001b[0;36mraise_for_status\u001b[0;34m(self)\u001b[0m\n\u001b[1;32m    951\u001b[0m \u001b[0;34m\u001b[0m\u001b[0m\n\u001b[1;32m    952\u001b[0m         \u001b[0;32mif\u001b[0m \u001b[0mhttp_error_msg\u001b[0m\u001b[0;34m:\u001b[0m\u001b[0;34m\u001b[0m\u001b[0;34m\u001b[0m\u001b[0m\n\u001b[0;32m--> 953\u001b[0;31m             \u001b[0;32mraise\u001b[0m \u001b[0mHTTPError\u001b[0m\u001b[0;34m(\u001b[0m\u001b[0mhttp_error_msg\u001b[0m\u001b[0;34m,\u001b[0m \u001b[0mresponse\u001b[0m\u001b[0;34m=\u001b[0m\u001b[0mself\u001b[0m\u001b[0;34m)\u001b[0m\u001b[0;34m\u001b[0m\u001b[0;34m\u001b[0m\u001b[0m\n\u001b[0m\u001b[1;32m    954\u001b[0m \u001b[0;34m\u001b[0m\u001b[0m\n\u001b[1;32m    955\u001b[0m     \u001b[0;32mdef\u001b[0m \u001b[0mclose\u001b[0m\u001b[0;34m(\u001b[0m\u001b[0mself\u001b[0m\u001b[0;34m)\u001b[0m\u001b[0;34m:\u001b[0m\u001b[0;34m\u001b[0m\u001b[0;34m\u001b[0m\u001b[0m\n",
      "\u001b[0;31mHTTPError\u001b[0m: 404 Client Error: Not Found for url: https://irsa.ipac.caltech.edu/ibe/search/sofia/sofia.plane/level1?INTERSECT=OVERLAPS&POS=295.487834%2C16.744345"
     ]
    }
   ],
   "source": [
    "from astroquery.ipac.irsa.ibe import Ibe\n",
    "Ibe.list_tables('sofia','sofia.plane')\n",
    "Ibe.query_region(coordinate='19:41:57.080, 16:44:39.64', mission='sofia', dataset='sofia.plane')"
   ]
  },
  {
   "cell_type": "code",
   "execution_count": null,
   "metadata": {},
   "outputs": [],
   "source": []
  }
 ],
 "metadata": {
  "kernelspec": {
   "display_name": "Python 3 (ipykernel)",
   "language": "python",
   "name": "python3"
  },
  "language_info": {
   "codemirror_mode": {
    "name": "ipython",
    "version": 3
   },
   "file_extension": ".py",
   "mimetype": "text/x-python",
   "name": "python",
   "nbconvert_exporter": "python",
   "pygments_lexer": "ipython3",
   "version": "3.9.7"
  }
 },
 "nbformat": 4,
 "nbformat_minor": 4
}
