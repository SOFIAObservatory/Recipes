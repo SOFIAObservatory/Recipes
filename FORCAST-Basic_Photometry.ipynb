{
 "cells": [
  {
   "cell_type": "markdown",
   "id": "212fb873",
   "metadata": {},
   "source": [
    "FORCAST Basic Photometry\n",
    "=================\n",
    "* **Aim**: Simple aperture photometry and uncertainty calculation. <br />\n",
    "* **Data**: FORCAST imaging data (5.6um) of the Symbiotic Mira, HM Sge <br />\n",
    "* **Tools**: astropy, photutils <br />\n",
    "* **Instrument**: FORCAST<br />\n",
    "* **Documentation**: [FORCAST data handbook](https://www.sofia.usra.edu/sites/default/files/USpot_DCS_DPS/Documents/FORCAST_data_handbook.pdf)"
   ]
  },
  {
   "cell_type": "markdown",
   "id": "5d0ee089",
   "metadata": {},
   "source": [
    "## Goals\n",
    "* Determine the sum of the flux within an aperture .\n",
    "* Determine the sum of flux within a larger annulus for background determination.\n",
    "* Subtract background flux.\n",
    "* Calculate uncertainty."
   ]
  },
  {
   "cell_type": "markdown",
   "id": "cbc39522",
   "metadata": {},
   "source": [
    "Introduction\n",
    "-------------\n",
    "This turotial will go through the basic process of aperture photometry for a single source using `python` and `astropy`. For a more in-depth description of each of these steps refer to the FORCAST photometry (detailed) tutorial. For further instructions on this process refer to the FORCAST data handbook referenced above.  "
   ]
  },
  {
   "cell_type": "markdown",
   "id": "4b33e4ab",
   "metadata": {},
   "source": [
    "## Imports"
   ]
  },
  {
   "cell_type": "code",
   "execution_count": 1,
   "id": "e94b5dde",
   "metadata": {
    "execution": {
     "iopub.execute_input": "2023-09-21T00:15:05.689177Z",
     "iopub.status.busy": "2023-09-21T00:15:05.688926Z",
     "iopub.status.idle": "2023-09-21T00:15:06.823298Z",
     "shell.execute_reply": "2023-09-21T00:15:06.822693Z"
    }
   },
   "outputs": [],
   "source": [
    "from astropy import units as u\n",
    "from astropy.io import fits\n",
    "import numpy as np\n",
    "from astropy.wcs import WCS\n",
    "import matplotlib.pyplot as plt\n",
    "from astropy.coordinates import SkyCoord\n",
    "from photutils.aperture import (\n",
    "    CircularAperture,\n",
    "    CircularAnnulus,\n",
    "    aperture_photometry,\n",
    ")\n",
    "import warnings\n",
    "warnings.simplefilter('ignore')\n",
    "%matplotlib inline"
   ]
  },
  {
   "cell_type": "markdown",
   "id": "e0ce488c",
   "metadata": {},
   "source": [
    "Ingredients\n",
    "------------\n",
    "\n",
    "The data used are Level 3 flux calibrated imaging data for a [public dataset](https://www.stsci.edu/hst/proposing/approved-programs/hst-sofia) targeting the Symbiotic Mira, HM Sge, in FORCAST's 5.6 $\\mu$m filter. Access to this, and other, data can be found at the Infrared Science Archive [(IRSA)](https://irsa.ipac.caltech.edu/Missions/sofia.html).\n",
    "\n",
    "#### The data can be directly downloaded [here](https://zenodo.org/record/6574619/files/F0753_FO_IMA_7500575_FORF056_CAL_0109-0111.fits?download=1)\n"
   ]
  },
  {
   "cell_type": "code",
   "execution_count": 2,
   "id": "3daa0110",
   "metadata": {
    "execution": {
     "iopub.execute_input": "2023-09-21T00:15:06.826829Z",
     "iopub.status.busy": "2023-09-21T00:15:06.826490Z",
     "iopub.status.idle": "2023-09-21T00:15:06.878692Z",
     "shell.execute_reply": "2023-09-21T00:15:06.878124Z"
    }
   },
   "outputs": [],
   "source": [
    "# Load the data\n",
    "filename = \"example_data/FORCAST/F0753_FO_IMA_7500575_FORF056_CAL_0109-0111.fits\"\n",
    "data = fits.open(filename)\n",
    "hdr = data[0].header\n",
    "w = WCS(data[0].header)"
   ]
  },
  {
   "cell_type": "code",
   "execution_count": 3,
   "id": "1abd4e79",
   "metadata": {
    "execution": {
     "iopub.execute_input": "2023-09-21T00:15:06.881306Z",
     "iopub.status.busy": "2023-09-21T00:15:06.881118Z",
     "iopub.status.idle": "2023-09-21T00:15:06.885207Z",
     "shell.execute_reply": "2023-09-21T00:15:06.884623Z"
    }
   },
   "outputs": [
    {
     "data": {
      "text/plain": [
       "SIMPLE  =                    T / conforms to FITS standard                      \n",
       "BITPIX  =                  -64 / array data type                                \n",
       "NAXIS   =                    2 / number of array dimensions                     \n",
       "NAXIS1  =                  296                                                  \n",
       "NAXIS2  =                  334                                                  \n",
       "EXTEND  =                    T                                                  \n",
       "COMMENT / -- scaling --                                                         \n",
       "COMMENT / --- DCS OBSERVATION ---                                               \n",
       "DATASRC = 'astro   '           / (DCS) data source                              \n",
       "OBSTYPE = 'OBJECT  '           / Observation type                               \n",
       "SRCTYPE = 'UNKNOWN '           / pipeline source type                           \n",
       "KWDICT  = 'DCS_SI_rev_F'       / FITS keyword dictionary version                \n",
       "OBS_ID  = 'P_2021-07-01_FO_F753B0109' / yyyy_mm_dd_FO_FnnnCmmmm                 \n",
       "AOT_ID  = 'UNKNOWN '           / Astronomical Obervation Template               \n",
       "AOR_ID  = '75_0057_5'          / Astronomical Observation Request Identifier    \n",
       "AOROBSIX=                    2 / AOR Observation Index (sequence index in AOR)  \n",
       "AORFAOR = '        '           / source FAOR                                    \n",
       "COMMENT / --- DCS DATA PROCESSING ---                                           \n",
       "PROCSTAT= 'LEVEL_3 '           / Processing status                              \n",
       "HEADSTAT= 'MODIFIED'           / Header status                                  \n",
       "COMMENT / --- DCS MISSION MANAGEMENT ---                                        \n",
       "PLANID  = '75_0057 '           / observing plan identification                  \n",
       "DEPLOY  = 'DAOF    '           / site deployment                                \n",
       "MISSN-ID= '2021-07-01_FO_F753' / mission id                                     \n",
       "FLIGHTLG=                -9999 / flight leg fltexec.fltexec_data.leg_seq        \n",
       "COMMENT / --- DCS ORIGINATION ---                                               \n",
       "ORIGIN  = 'Cornell FORCAST data acquisition' / data origin                      \n",
       "OBSERVER= 'UNKNOWN '           / observer(s)                                    \n",
       "OPERATOR= 'UNKNOWN '           / telescope operator                             \n",
       "CREATOR = 'foracq 1.10.0 Feb 23 2021 12:25:32' / acquisition software           "
      ]
     },
     "execution_count": 3,
     "metadata": {},
     "output_type": "execute_result"
    }
   ],
   "source": [
    "# print first 30 rows\n",
    "hdr[0:30]"
   ]
  },
  {
   "cell_type": "markdown",
   "id": "f9d6dc0e",
   "metadata": {},
   "source": [
    "## Get aperture radius sum\n",
    "The background annulus should be as large as possible without including other sources or large variations to ensure good statistics. We recommend using the same aperture and annulus as used for calibrators (12 pixels). It is also recommended to use a background annulus of 15-25 pixels so long as this does not include additional sources of flux. \n",
    "\n",
    "```diff\n",
    "- Warning: An aperture radius of 12 may not be appropriate for your observations. Consult the FORCAST handbook if you are not sure. \n",
    "```\n"
   ]
  },
  {
   "cell_type": "code",
   "execution_count": 4,
   "id": "cfb934ec",
   "metadata": {
    "execution": {
     "iopub.execute_input": "2023-09-21T00:15:06.888112Z",
     "iopub.status.busy": "2023-09-21T00:15:06.887892Z",
     "iopub.status.idle": "2023-09-21T00:15:06.890746Z",
     "shell.execute_reply": "2023-09-21T00:15:06.890287Z"
    }
   },
   "outputs": [],
   "source": [
    "# Aperture sum function\n",
    "def get_aperture_sum(data, pos_pix, r_pix):\n",
    "    pix_aperture = CircularAperture(pos_pix, r=r_pix)\n",
    "    sum_aperture = aperture_photometry(data[0].data, pix_aperture)\n",
    "    area = pix_aperture.area\n",
    "    return sum_aperture[\"aperture_sum\"], pix_aperture, area"
   ]
  },
  {
   "cell_type": "code",
   "execution_count": 5,
   "id": "4b4fc7f5",
   "metadata": {
    "execution": {
     "iopub.execute_input": "2023-09-21T00:15:06.893246Z",
     "iopub.status.busy": "2023-09-21T00:15:06.893045Z",
     "iopub.status.idle": "2023-09-21T00:15:06.895724Z",
     "shell.execute_reply": "2023-09-21T00:15:06.895146Z"
    }
   },
   "outputs": [],
   "source": [
    "# USER OPTIONS______________\n",
    "r_ap = 12\n",
    "background_aperture_inner_radius = 15.0\n",
    "background_aperture_outter_radius = 25.0\n",
    "\n",
    "target_ra = \"19:41:57.080\"\n",
    "target_dec = \"16:44:39.64\"\n",
    "# _________________________"
   ]
  },
  {
   "cell_type": "code",
   "execution_count": 6,
   "id": "15cc7c8e",
   "metadata": {
    "execution": {
     "iopub.execute_input": "2023-09-21T00:15:06.898376Z",
     "iopub.status.busy": "2023-09-21T00:15:06.898174Z",
     "iopub.status.idle": "2023-09-21T00:15:07.005633Z",
     "shell.execute_reply": "2023-09-21T00:15:07.005047Z"
    }
   },
   "outputs": [],
   "source": [
    "# get position in SkyCoord format\n",
    "pos = SkyCoord(target_ra, target_dec, unit=(u.hourangle, u.deg))\n",
    "\n",
    "# convert to pixels within data\n",
    "pos_pix = pos.to_pixel(w)\n",
    "\n",
    "# determine sum flux at pixel position and with aperature radius: r_ap\n",
    "sum_jy, pix_aperture, area = get_aperture_sum(data, pos_pix, r_ap)"
   ]
  },
  {
   "cell_type": "markdown",
   "id": "bac2ce26",
   "metadata": {},
   "source": [
    "## Define background annulus"
   ]
  },
  {
   "cell_type": "code",
   "execution_count": 7,
   "id": "635bd936",
   "metadata": {
    "execution": {
     "iopub.execute_input": "2023-09-21T00:15:07.008702Z",
     "iopub.status.busy": "2023-09-21T00:15:07.008489Z",
     "iopub.status.idle": "2023-09-21T00:15:07.176879Z",
     "shell.execute_reply": "2023-09-21T00:15:07.176139Z"
    }
   },
   "outputs": [
    {
     "data": {
      "image/png": "[encoded data removed]",
      "text/plain": [
       "<Figure size 432x288 with 1 Axes>"
      ]
     },
     "metadata": {
      "needs_background": "light"
     },
     "output_type": "display_data"
    }
   ],
   "source": [
    "# get WCS information of data\n",
    "w = WCS(data[0].header)\n",
    "\n",
    "# define background annulus of similar center and specified radii\n",
    "annulus_aperture = CircularAnnulus(\n",
    "    pos_pix,\n",
    "    r_in=background_aperture_inner_radius,\n",
    "    r_out=background_aperture_outter_radius,\n",
    ")\n",
    "\n",
    "# plot aperture and annulus\n",
    "plt.imshow(data[0].data, cmap=\"gray_r\", origin=\"lower\")\n",
    "pix_aperture.plot(color=\"blue\", lw=1.5, alpha=0.5)\n",
    "annulus_aperture.plot(color=\"red\", lw=1.5, alpha=0.5);"
   ]
  },
  {
   "cell_type": "markdown",
   "id": "b0f34874",
   "metadata": {},
   "source": [
    "Two other white artifacts can also be seen in this image. These are artifacts of the stacking and the specific merging procedure and should not be used for further anaylsis."
   ]
  },
  {
   "cell_type": "markdown",
   "id": "cc311760",
   "metadata": {},
   "source": [
    "## Calculate and subtract background flux"
   ]
  },
  {
   "cell_type": "code",
   "execution_count": 8,
   "id": "e2ab1291",
   "metadata": {
    "execution": {
     "iopub.execute_input": "2023-09-21T00:15:07.179862Z",
     "iopub.status.busy": "2023-09-21T00:15:07.179665Z",
     "iopub.status.idle": "2023-09-21T00:15:07.184756Z",
     "shell.execute_reply": "2023-09-21T00:15:07.183927Z"
    }
   },
   "outputs": [
    {
     "name": "stdout",
     "output_type": "stream",
     "text": [
      "Flux removed: 0.001054 Jy\n",
      "background_substracted flux: 52.810753 Jy\n"
     ]
    }
   ],
   "source": [
    "# determine flux sum within background annulus\n",
    "bkg_results = aperture_photometry(data[0].data, annulus_aperture)\n",
    "\n",
    "# determine flux average in background annulus\n",
    "bkg_mean = bkg_results[\"aperture_sum\"] / annulus_aperture.area\n",
    "\n",
    "# subtract background average from flux sum within aperture.\n",
    "flux_background_subtracted = sum_jy[0] - bkg_mean[0]\n",
    "\n",
    "print(\"Flux removed: \" + \"{:.6f}\".format(bkg_mean[0]) + \" Jy\")\n",
    "print(\"background_substracted flux: \" + \"{:.6f}\".format(flux_background_subtracted) + \" Jy\")"
   ]
  },
  {
   "cell_type": "markdown",
   "id": "9d4241c8",
   "metadata": {},
   "source": [
    "## Calculate relative uncertainty"
   ]
  },
  {
   "cell_type": "code",
   "execution_count": 9,
   "id": "c0cd3aa5",
   "metadata": {
    "execution": {
     "iopub.execute_input": "2023-09-21T00:15:07.187900Z",
     "iopub.status.busy": "2023-09-21T00:15:07.187684Z",
     "iopub.status.idle": "2023-09-21T00:15:07.285231Z",
     "shell.execute_reply": "2023-09-21T00:15:07.284581Z"
    }
   },
   "outputs": [
    {
     "data": {
      "image/png": "[encoded data removed]",
      "text/plain": [
       "<Figure size 432x288 with 1 Axes>"
      ]
     },
     "metadata": {
      "needs_background": "light"
     },
     "output_type": "display_data"
    }
   ],
   "source": [
    "# create annulus mask from previously created annulus aperture\n",
    "annulus_mask = annulus_aperture.to_mask(method=\"center\")\n",
    "\n",
    "# applying mask to data\n",
    "annulus_data = annulus_mask.multiply(data[0].data)\n",
    "\n",
    "# calculating standard deviation within background annulus\n",
    "annulus_std = np.std(annulus_data)\n",
    "\n",
    "# plotting data\n",
    "plt.imshow(annulus_data);"
   ]
  },
  {
   "cell_type": "markdown",
   "id": "414ddaed",
   "metadata": {},
   "source": [
    "The error is calculated (in quadrature) using the relative error, the relative error in the flux calibration, and the uncertainty in the flux calibration\n",
    "model at the given wavelength, which is typically 5% (Dehaes et al. 2011).\n",
    "\n",
    "More details for this calculation can be found in the FORCAST photometry (detailed) notebook."
   ]
  },
  {
   "cell_type": "code",
   "execution_count": 10,
   "id": "d4825e9a",
   "metadata": {
    "execution": {
     "iopub.execute_input": "2023-09-21T00:15:07.288611Z",
     "iopub.status.busy": "2023-09-21T00:15:07.288360Z",
     "iopub.status.idle": "2023-09-21T00:15:07.292401Z",
     "shell.execute_reply": "2023-09-21T00:15:07.291704Z"
    }
   },
   "outputs": [
    {
     "name": "stdout",
     "output_type": "stream",
     "text": [
      "relative uncertainty: 5.59%\n"
     ]
    }
   ],
   "source": [
    "# calculating the relative uncertainty (%)\n",
    "sigma_m = np.sqrt(\n",
    "    (\n",
    "        2 * np.pi * (r_ap * annulus_std / flux_background_subtracted) ** 2 # relative error\n",
    "        + (hdr[\"ERRCALF\"] / hdr[\"CALFCTR\"]) ** 2 # relative error in flux calibration\n",
    "        + (0.05) **2 # uncertainty in the flux calibration\n",
    "    )\n",
    ")\n",
    "print('relative uncertainty: '+\"{:.2f}\".format(sigma_m*100)+'%')"
   ]
  },
  {
   "cell_type": "markdown",
   "id": "7e9fb09f",
   "metadata": {},
   "source": [
    "r_ap: aperture radius in pixels\n",
    "\n",
    "CALFCTR: Calibration Factor (Me/sec/Jy)\n",
    "\n",
    "ERRCALF: Calibration Factor Uncertainty (Me/sec/Jy)"
   ]
  },
  {
   "cell_type": "markdown",
   "id": "d1e8d1c3",
   "metadata": {},
   "source": [
    "## Calculate final flux + absolute uncertainty"
   ]
  },
  {
   "cell_type": "code",
   "execution_count": 11,
   "id": "f5c51435",
   "metadata": {
    "execution": {
     "iopub.execute_input": "2023-09-21T00:15:07.295189Z",
     "iopub.status.busy": "2023-09-21T00:15:07.294966Z",
     "iopub.status.idle": "2023-09-21T00:15:07.298475Z",
     "shell.execute_reply": "2023-09-21T00:15:07.297732Z"
    }
   },
   "outputs": [
    {
     "name": "stdout",
     "output_type": "stream",
     "text": [
      "Final 5.6um flux w/ uncertainty:\n",
      "52.810753 +/- 2.952915 Jy\n"
     ]
    }
   ],
   "source": [
    "absolute_uncertainty = sigma_m*flux_background_subtracted\n",
    "\n",
    "print(\"Final 5.6um flux w/ uncertainty:\\n\"\n",
    "    + \"{:.6f}\".format(flux_background_subtracted)\n",
    "    + \" +/- \"\n",
    "    + \"{:.6f}\".format(absolute_uncertainty)\n",
    "    + \" Jy\"\n",
    ")"
   ]
  },
  {
   "cell_type": "markdown",
   "id": "e3c60311",
   "metadata": {},
   "source": [
    "## For more information different sources of noise and image artifacts, see the excellent review in James Radomski's [SOFIA school webniar](https://www.youtube.com/watch?v=Nrd_w-ZKBrM)"
   ]
  },
  {
   "cell_type": "markdown",
   "id": "fd97a73d",
   "metadata": {},
   "source": [
    " "
   ]
  }
 ],
 "metadata": {
  "kernelspec": {
   "display_name": "Python 3 (ipykernel)",
   "language": "python",
   "name": "python3"
  },
  "language_info": {
   "codemirror_mode": {
    "name": "ipython",
    "version": 3
   },
   "file_extension": ".py",
   "mimetype": "text/x-python",
   "name": "python",
   "nbconvert_exporter": "python",
   "pygments_lexer": "ipython3",
   "version": "3.8.17"
  }
 },
 "nbformat": 4,
 "nbformat_minor": 5
}
