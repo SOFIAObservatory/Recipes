{
 "cells": [
  {
   "cell_type": "markdown",
   "metadata": {},
   "source": [
    "# HAWC+ Data Recipe / 30 Doradus Data Release\n",
    "-------------------\n",
    "In this `jupyter` recipe, we will explore the [HAWC+](https://www.sofia.usra.edu/science/instruments/hawc) data cube and describe some of the basic analysis techniques involving imaging polarimetry data.\n",
    "\n",
    "This cookbook recipe follows the SOFIA press release of 30 Doradus observations: [SOFIA Reveals Never-Before-Seen Magnetic Field Details](https://www.sofia.usra.edu/multimedia/science-results-archive/sofia-reveals-never-seen-magnetic-field-details).\n",
    "\n",
    "The Level 4 reduced data from this program has been released immediately to the public and is available on the Infrared Science Archive [(IRSA)](https://irsa.ipac.caltech.edu/Missions/sofia.html).  This notebook will guide the reader through downloading the 30 Doradus data with a walkthrough of basic analysis techniques using `python`."
   ]
  },
  {
   "cell_type": "markdown",
   "metadata": {},
   "source": [
    "## Introduction\n",
    "\n",
    "The Strategic Director's Discretionary Time (S-DDT) for SOFIA is aimed at providing the astronomical community with data sets of high scientific interest over a broadrange of potential research topics without any proprietary period.  These observingsessions allow the general user community access to high-level data products that aremeant not only for general understanding of SOFIA data and its packaging but also for inclusion in published scientific work.  The S-DDT target have been selected on a non-interference basis with existing programs and in terms of SOFIA flight planning.\n",
    "\n",
    "The 76_0001 program, \"Community Science: HAWC+ Polarimetry of 30 Dor,\" was designed and scheduled to provide the community with SOFIA polarimetry data of an important and relatively bright source.  The observing strategy also provided significantly increased scheduling efficiency for the OC6I (HAWC+) flights in July 2018.  The west-bound observing legs for 30 Doradus allowed a larger fraction of the highest ranked Cycle 6 targets, predominantly in the inner Galaxy, to be scheduled and flown.\n",
    "\n",
    "To enhance the scientific exploitation of these data products, we present here an overview of the observations, visualizations of the data, and preliminary analysis of their quality.\n",
    "\n",
    "The purpose of this document is to provide a template for a [jupyter notebook](http://jupyter.org/) session, or even just some code snippets, that will aid in analysis of SOFIA/HAWC+ data.\n",
    "\n",
    "In this notebook, we focus on imaging polarimetry data; however, some of the techniques mentioned here would also apply to HAWC+ total intensity imaging as well.  For more information on HAWC+ observing modes, visit our observer's handbook at https://www.sofia.usra.edu/science/instruments/hawc."
   ]
  },
  {
   "cell_type": "markdown",
   "metadata": {},
   "source": [
    "## Downloading HAWC+ Data\n",
    "\n",
    "- Fill in the following fields\n",
    "- Spatial constraints:\n",
    "  - Coordinates or object name: `30 Dor` from drop-down menu\n",
    "  - Radius: `600 arcseconds`\n",
    "- Click on the arrow next to Observation Constraints to open the drop-down options. \n",
    "- Observation Constraints:\n",
    "  - Observation Date: From: `2018-01-01` To: `2019-01-01`\n",
    "- Instrument Constraints\n",
    "  - Select `HAWC+`\n",
    "- Data Product Constraints:\n",
    "  - Processing Level: `Level 4`\n",
    "  - Click the `Search` button\n",
    "- After the results load, select the checkboxes next to the Column header AOR ID to select all data files. All files should now have a blue check indicating selection. \n",
    "- Click `Prepare Download`\n",
    "- Fill in Title as `HAWC+_example_data`\n",
    "- Click `Prepare Download`\n",
    "- After a few minutes, the data will be downloaded locally.\n",
    "- For more information, consult the [HAWC+ Data Handbook](https://www.sofia.usra.edu/sites/default/files/Instruments/HAWC_PLUS/Documents/hawc_data_handbook.pdf).\n",
    "\n",
    "#### You can download the example data directly [here](https://zenodo.org/record/5706312/files/hawc-sample-data.zip?download=1)."
   ]
  },
  {
   "cell_type": "markdown",
   "metadata": {},
   "source": [
    "## SOFIA Data Organization\n",
    "After downloading the SOFIA data to your working directory you will want to unzip it, which will produce a directory structure like this:"
   ]
  },
  {
   "cell_type": "markdown",
   "metadata": {},
   "source": [
    "```console\n",
    ".\n",
    "└── HAWC+_example_data\n",
    "    ├── level4\n",
    "    │   └── p5813\n",
    "    │       └── F0484_HA_POL_7600018_HAWCHWPC_PMP_022-114.fits\n",
    "    └── missions\n",
    "        ├── 2018-07-05_HA_F481\n",
    "        │   └── p5827\n",
    "        │       └── F0481_HA_POL_7600012_HAWDHWPD_PMP_050-083.fits\n",
    "        ├── 2018-07-07_HA_F483\n",
    "        │   └── p5646\n",
    "        │       └── F0483_HA_POL_7600014_HAWCHWPC_PMP_022-065.fits\n",
    "        ├── 2018-07-11_HA_F484\n",
    "        │   └── p5648\n",
    "        │       └── F0484_HA_POL_7600017_HAWCHWPC_PMP_065-114.fits\n",
    "        └── 2018-07-12_HA_F485\n",
    "            └── p5658\n",
    "                ├── g1\n",
    "                │   └── F0485_HA_POL_76000110_HAWAHWPA_PMP_043-052.fits\n",
    "                └── g2\n",
    "                    └── F0485_HA_POL_7600019_HAWEHWPE_PMP_055-075.fits\n",
    "```"
   ]
  },
  {
   "cell_type": "markdown",
   "metadata": {},
   "source": [
    "Note the following features of this data bundle.\n",
    "\n",
    "- Each `fits` file in the 'missions' directory corresponds to data from a single AOR (or a different filter element) obtained on a single flight\n",
    "- Each subdirectory under missions corresponds to a single flight\n",
    "- `fits` files under 'level4' correspond to data combined from several flights\n",
    "- If multiple filters were observed on the same flight, they will be further divided into subdirectories (g1/g2 on the last line)\n",
    "\n",
    "Note that two observations were made with the same filter (HAWC C, $89\\,\\mathrm{\\mu m}$).  These files, `F0483_HA_POL_7600014_HAWCHWPC_PMP_022-065.fits` and `F0484_HA_POL_7600017_HAWCHWPC_PMP_065-114.fits`, were combined into one:\n",
    "\n",
    "`level4->p5813->F0484_HA_POL_7600018_HAWCHWPC_PMP_022-114.fits`."
   ]
  },
  {
   "cell_type": "markdown",
   "metadata": {},
   "source": [
    "You can choose to keep the `fits` files nested, or copy them into one directory."
   ]
  },
  {
   "cell_type": "markdown",
   "metadata": {},
   "source": [
    "For the purpose of this basic analysis, though, let us dump all the files into one `sofia_data` directory:"
   ]
  },
  {
   "cell_type": "markdown",
   "metadata": {},
   "source": [
    "```console\n",
    ".\n",
    "└── sofia_data\n",
    "    ├── F0481_HA_POL_7600012_HAWDHWPD_PMP_050-083.fits\n",
    "    ├── F0483_HA_POL_7600014_HAWCHWPC_PMP_022-065.fits\n",
    "    ├── F0484_HA_POL_7600017_HAWCHWPC_PMP_065-114.fits\n",
    "    ├── F0484_HA_POL_7600018_HAWCHWPC_PMP_022-114.fits\n",
    "    ├── F0485_HA_POL_76000110_HAWAHWPA_PMP_043-052.fits\n",
    "    └── F0485_HA_POL_7600019_HAWEHWPE_PMP_055-075.fits\n",
    "```"
   ]
  },
  {
   "cell_type": "markdown",
   "metadata": {},
   "source": [
    "## Data Structure\n",
    "\n",
    "For this analysis, we require the standard [numpy/scipy/matplotlib stack](https://scipy.org/install.html) as well the [astropy](http://docs.astropy.org/en/stable/) and [aplpy](https://aplpy.readthedocs.io/en/stable/index.html) modules.\n",
    "\n",
    "With just a few lines of code, we can explore the HAWC+ `fits` data cubes and plot the images."
   ]
  },
  {
   "cell_type": "code",
   "execution_count": 1,
   "metadata": {
    "execution": {
     "iopub.execute_input": "2021-11-18T15:03:53.303269Z",
     "iopub.status.busy": "2021-11-18T15:03:53.301271Z",
     "iopub.status.idle": "2021-11-18T15:03:54.703008Z",
     "shell.execute_reply": "2021-11-18T15:03:54.704085Z"
    }
   },
   "outputs": [
    {
     "name": "stdout",
     "output_type": "stream",
     "text": [
      "Filename: F0485_HA_POL_76000110_HAWAHWPA_PMP_043-052.fits\n",
      "No.    Name      Ver    Type      Cards   Dimensions   Format\n",
      "  0  STOKES I      1 PrimaryHDU     572   (94, 114)   float64   \n",
      "  1  ERROR I       1 ImageHDU        27   (94, 114)   float64   \n",
      "  2  STOKES Q      1 ImageHDU        18   (94, 114)   float64   \n",
      "  3  ERROR Q       1 ImageHDU        18   (94, 114)   float64   \n",
      "  4  STOKES U      1 ImageHDU        18   (94, 114)   float64   \n",
      "  5  ERROR U       1 ImageHDU        18   (94, 114)   float64   \n",
      "  6  IMAGE MASK    1 ImageHDU        27   (94, 114)   float64   \n",
      "  7  PERCENT POL    1 ImageHDU        18   (94, 114)   float64   \n",
      "  8  DEBIASED PERCENT POL    1 ImageHDU        18   (94, 114)   float64   \n",
      "  9  ERROR PERCENT POL    1 ImageHDU        18   (94, 114)   float64   \n",
      " 10  POL ANGLE     1 ImageHDU        18   (94, 114)   float64   \n",
      " 11  ROTATED POL ANGLE    1 ImageHDU        18   (94, 114)   float64   \n",
      " 12  ERROR POL ANGLE    1 ImageHDU        18   (94, 114)   float64   \n",
      " 13  POL FLUX      1 ImageHDU        18   (94, 114)   float64   \n",
      " 14  ERROR POL FLUX    1 ImageHDU        18   (94, 114)   float64   \n",
      " 15  DEBIASED POL FLUX    1 ImageHDU        18   (94, 114)   float64   \n",
      " 16  MERGED DATA    1 BinTableHDU    234   8R x 67C   [1J, 1E, 1E, 1E, 1E, 1E, 1E, 1E, 1E, 1J, 1J, 1E, 1K, 1K, 1J, 1E, 1E, 1J, 1E, 1E, 1E, 1E, 1E, 1E, 1B, 1E, 1E, 1E, 1E, 1E, 1E, 1D, 1D, 1D, 1D, 1D, 1D, 1D, 1D, 1D, 1D, 1D, 1D, 1D, 1D, 1D, 1J, 1D, 1J, 1D, 1D, 1D, 1J, 1J, 1J, 2624E, 2624E, 1E, 1J, 2624E, 2624E, 2624E, 2624E, D, D, D, 49A]   \n",
      " 17  POL DATA      1 BinTableHDU     34   10716R x 10C   [J, J, D, D, D, D, D, D, D, D]   \n",
      " 18  FINAL POL DATA    1 BinTableHDU     30   84R x 8C   [D, D, D, D, D, D, D, D]   \n"
     ]
    }
   ],
   "source": [
    "from astropy.io import fits\n",
    "\n",
    "efile = 'F0485_HA_POL_7600019_HAWEHWPE_PMP_055-075.fits'\n",
    "dfile = 'F0481_HA_POL_7600012_HAWDHWPD_PMP_050-083.fits'\n",
    "cfile = 'F0484_HA_POL_7600018_HAWCHWPC_PMP_022-114.fits'\n",
    "\n",
    "\n",
    "afile = 'F0485_HA_POL_76000110_HAWAHWPA_PMP_043-052.fits'\n",
    "hawc = fits.open(afile)\n",
    "hawc.info()"
   ]
  },
  {
   "cell_type": "markdown",
   "metadata": {},
   "source": [
    "We can see above the data structure of the multi-extension `fits` files.  Each file contains 19 extensions which encapsulates all of the measurable Stokes parameters, derived polarization information, and associated errors in a single package.\n",
    "<hr>"
   ]
  },
  {
   "cell_type": "markdown",
   "metadata": {},
   "source": [
    "### Stokes I\n",
    "Stokes $I$---the zeroth extension in the `fits` file---represents the total intensity of the image.\n",
    "\n",
    "Let us go ahead and plot this extension:"
   ]
  },
  {
   "cell_type": "code",
   "execution_count": 2,
   "metadata": {
    "execution": {
     "iopub.execute_input": "2021-11-18T15:03:54.704085Z",
     "iopub.status.busy": "2021-11-18T15:03:54.704085Z",
     "iopub.status.idle": "2021-11-18T15:03:55.086064Z",
     "shell.execute_reply": "2021-11-18T15:03:55.086064Z"
    }
   },
   "outputs": [
    {
     "ename": "ModuleNotFoundError",
     "evalue": "No module named 'aplpy'",
     "output_type": "error",
     "traceback": [
      "\u001b[1;31m---------------------------------------------------------------------------\u001b[0m",
      "\u001b[1;31mModuleNotFoundError\u001b[0m                       Traceback (most recent call last)",
      "\u001b[1;32m<ipython-input-2-f465454a1232>\u001b[0m in \u001b[0;36m<module>\u001b[1;34m\u001b[0m\n\u001b[0;32m      3\u001b[0m \u001b[1;31m# ^jupyter magic for inline plots\u001b[0m\u001b[1;33m\u001b[0m\u001b[1;33m\u001b[0m\u001b[1;33m\u001b[0m\u001b[0m\n\u001b[0;32m      4\u001b[0m \u001b[1;31m#    leave this out if working in a non-interactive environment\u001b[0m\u001b[1;33m\u001b[0m\u001b[1;33m\u001b[0m\u001b[1;33m\u001b[0m\u001b[0m\n\u001b[1;32m----> 5\u001b[1;33m \u001b[1;32mfrom\u001b[0m \u001b[0maplpy\u001b[0m \u001b[1;32mimport\u001b[0m \u001b[0mFITSFigure\u001b[0m\u001b[1;33m\u001b[0m\u001b[1;33m\u001b[0m\u001b[0m\n\u001b[0m\u001b[0;32m      6\u001b[0m \u001b[1;33m\u001b[0m\u001b[0m\n\u001b[0;32m      7\u001b[0m \u001b[1;31m# set colormap for all plots\u001b[0m\u001b[1;33m\u001b[0m\u001b[1;33m\u001b[0m\u001b[1;33m\u001b[0m\u001b[0m\n",
      "\u001b[1;31mModuleNotFoundError\u001b[0m: No module named 'aplpy'"
     ]
    }
   ],
   "source": [
    "import matplotlib.pyplot as plt\n",
    "%matplotlib notebook\n",
    "# ^jupyter magic for inline plots\n",
    "#    leave this out if working in a non-interactive environment\n",
    "from aplpy import FITSFigure\n",
    "\n",
    "# set colormap for all plots\n",
    "cmap = 'rainbow'\n",
    "\n",
    "stokes_i = hawc['STOKES I']               # or hawc[0]. Note the extension is from the hawc.info() table above\n",
    "\n",
    "axs = FITSFigure(stokes_i)                # load HDU into aplpy figure\n",
    "axs.show_colorscale(cmap=cmap)            # display the data with WCS projection and chosen colormap\n",
    "\n",
    "# FORMATTING\n",
    "axs.tick_labels.set_font(size='small')\n",
    "\n",
    "# Add colorbar\n",
    "axs.add_colorbar()\n",
    "axs.colorbar.set_axis_label_text('Flux (Jy/pix)')"
   ]
  },
  {
   "cell_type": "markdown",
   "metadata": {},
   "source": [
    "### Stokes Q and U\n",
    "Similarly, we can plot the Stokes Q and Stokes U images:"
   ]
  },
  {
   "cell_type": "code",
   "execution_count": 3,
   "metadata": {},
   "outputs": [],
   "source": [
    "stokes_q = hawc['STOKES Q']\n",
    "stokes_u = hawc['STOKES U']\n",
    "\n",
    "axq = FITSFigure(stokes_q, subplot=(1,2,1))  # generate FITSFigure as subplot to have two axes together\n",
    "axq.show_colorscale(cmap=cmap)               # show Q\n",
    "\n",
    "\n",
    "axu = FITSFigure(stokes_u, subplot=(1,2,2),\n",
    "                 figure=plt.gcf())\n",
    "axu.show_colorscale(cmap=cmap)               # show U\n",
    "\n",
    "# FORMATTING\n",
    "axq.set_title('Stokes Q')\n",
    "axu.set_title('Stokes U')\n",
    "axu.axis_labels.set_yposition('right')\n",
    "axu.tick_labels.set_yposition('right')\n",
    "axq.tick_labels.set_font(size='small')\n",
    "axq.axis_labels.set_font(size='small')\n",
    "axu.tick_labels.set_font(size='small')\n",
    "axu.axis_labels.set_font(size='small')"
   ]
  },
  {
   "cell_type": "markdown",
   "metadata": {},
   "source": [
    "<hr>\n",
    "We can additionally plot the associated error maps for each extension."
   ]
  },
  {
   "cell_type": "code",
   "execution_count": 4,
   "metadata": {},
   "outputs": [],
   "source": [
    "stokes_q = hawc['STOKES Q']\n",
    "error_q = hawc['ERROR Q']\n",
    "\n",
    "axq = FITSFigure(stokes_q, subplot=(1,2,1))  # generate FITSFigure as subplot to have two axes together\n",
    "axq.show_colorscale(cmap=cmap)               # show Q\n",
    "\n",
    "\n",
    "axe = FITSFigure(error_q, subplot=(1,2,2), figure=plt.gcf())\n",
    "axe.show_colorscale(cmap=cmap)               # show error\n",
    "\n",
    "# FORMATTING\n",
    "axq.set_title('Stokes Q')\n",
    "axe.set_title('Error Q')\n",
    "axq.axis_labels.hide()                       # hide axis/tick labels\n",
    "axe.axis_labels.hide()\n",
    "axq.tick_labels.hide()\n",
    "axe.tick_labels.hide()"
   ]
  },
  {
   "cell_type": "markdown",
   "metadata": {},
   "source": [
    "------\n",
    "### Polarized Intensity $I_p$\n",
    "Level 4 HAWC+ additionally provides extensions with the linear polarization percentage ($p$), angle ($\\theta$), and their associated errors ($\\sigma$).\n",
    "\n",
    "Percent polarization ($p$) and error ($\\sigma_p$) are calculated as:\n",
    "\n",
    "\\begin{align}\n",
    "    p & = 100\\sqrt{\\left(\\frac{Q}{I}\\right)^2+\\left(\\frac{U}{I}\\right)^2} \\\\\n",
    "    \\sigma_p & = \\frac{100}{I}\\sqrt{\\frac{1}{(Q^2+U^2)}\\left[(Q\\,\\sigma_Q)^2+(U\\,\\sigma_U)^2+2QU\\,\\sigma_{QU}\\right]+\\left[\\left(\\frac{Q}{I}\\right)^2+\\left(\\frac{U}{I}\\right)^2\\right]\\sigma_I^2-2\\frac{Q}{I}\\sigma_{QI}-2\\frac{U}{I}\\sigma_{UI}}\n",
    "\\end{align}\n",
    "\n",
    "Note that $p$ here represents the **percent** polarization as opposed to the more typical convention for $p$ as the **fractional** polarization.\n",
    "\n",
    "Maps of these data are found in extensions 7 (PERCENT POL) and 9 (ERROR PERCENT POL).\n",
    "\n",
    "Polarized intensity, $I_p$, can then be calculated as $I_p = \\frac{I\\times p}{100}$, which is included in extension 13 (POL FLUX).\n",
    "\n",
    "Also included is the debiased polarization percentage ($p^\\prime$) calculated as:\n",
    "\n",
    "$p^\\prime=\\sqrt{p^2-\\sigma_p^2}$, found in extension 8 (DEBIASED PERCENT POL).\n",
    "\n",
    "We similarly define the debiased polarized intensity as $I_{p^\\prime} = \\frac{I\\times p^\\prime}{100}$, which is included in extension 15 (DEBIASED POL FLUX).\n",
    "\n",
    "These values are also included in table form in extension 17 (POL DATA)."
   ]
  },
  {
   "cell_type": "code",
   "execution_count": 5,
   "metadata": {},
   "outputs": [],
   "source": [
    "stokes_ip = hawc['DEBIASED POL FLUX']\n",
    "\n",
    "axi = FITSFigure(stokes_i, subplot=(1,2,1))\n",
    "axi.show_colorscale(cmap=cmap)               # show I\n",
    "\n",
    "\n",
    "axp = FITSFigure(stokes_ip, subplot=(1,2,2), figure=plt.gcf())\n",
    "axp.show_colorscale(cmap=cmap)               # show Ip\n",
    "\n",
    "# FORMATTING\n",
    "axi.set_title(r'$I$')\n",
    "axp.set_title(r'$I_{p^\\prime}$')\n",
    "axp.axis_labels.set_yposition('right')\n",
    "axp.tick_labels.set_yposition('right')\n",
    "axi.tick_labels.set_font(size='small')\n",
    "axi.axis_labels.set_font(size='small')\n",
    "axp.tick_labels.set_font(size='small')\n",
    "axp.axis_labels.set_font(size='small')"
   ]
  },
  {
   "cell_type": "markdown",
   "metadata": {},
   "source": [
    "----\n",
    "## Plotting Polarization Vectors\n",
    "\n",
    "From the $Q$ and $U$ maps, the polarization angle $\\theta$ is calculated in the standard way:\n",
    "\n",
    "$\\theta = \\frac{90}{\\pi}\\,\\mathrm{tan}^{-1}\\left(\\frac{U}{Q}\\right)$\n",
    "\n",
    "with associated error:\n",
    "\n",
    "$\\sigma_\\theta = \\frac{90}{\\pi\\left(Q^2+U^2\\right)}\\sqrt{\\left(Q\\sigma_Q\\right)^2+\\left(U\\sigma_U\\right)^2-2QU\\sigma_{QU}}$\n",
    "\n",
    "The angle map is stored in extension 10 (POL ANGLE) in degrees, with its error in extension 12 (ERROR POL ANGLE).  \n",
    "\n",
    "As part of the HAWC+ reduction pipeline, $\\theta$ is corrected for the vertical position angle of the instrument on the sky, the angle of the HWP plate, as well as an offset angle that is calibrated to each filter configuration. $\\theta=0^\\circ$ corresponds to the North-South direction, $\\theta=90^\\circ$ corresponds to the East-West direction, and positive values follow counterclockwise rotation.\n",
    "\n",
    "We also provide the PA of polarization rotated by $90^\\circ$, $\\theta_{90}$, in extension 11 (ROTATED POL ANGLE). This PA of polarization needs to be used with caution. If the measured polarization is dominated by magnetically-aligned dust grains, then the PA of polarization, $\\theta$, can be rotated by $90^\\circ$ to visualize the magnetic field morphology. For more details, see [Hildebrand et al. 2000](http://adsabs.harvard.edu/abs/2000PASP..112.1215H); [Andersson et al. 2015](http://adsabs.harvard.edu/abs/2015ARA%26A..53..501A).\n",
    "\n",
    "We can now use the $p^\\prime$ and $\\theta_{90}$ maps to plot the polarization vectors.  First, however, let us make a quality cut.  Rather than defining a $\\sigma$ cut on the polarization vectors themselves, it is more useful to define a signal-to-noise cut on total intensity, $I$, the measured quantity.\n",
    "\n",
    "Starting with the propagated error on the polarization fraction:\n",
    "\n",
    "\\begin{equation*}\n",
    "    \\sigma_p = \\frac{100}{I}\\sqrt{\\frac{1}{(Q^2+U^2)}\\left[(Q\\,\\sigma_Q)^2+(U\\,\\sigma_U)^2+2QU\\,\\sigma_{QU}\\right]+\\left[\\left(\\frac{Q}{I}\\right)^2+\\left(\\frac{U}{I}\\right)^2\\right]\\sigma_I^2-2\\frac{Q}{I}\\sigma_{QI}-2\\frac{U}{I}\\sigma_{UI}}\n",
    "\\end{equation*}\n",
    "\n",
    "Let's assume the errors in $Q$, $U$, and $I$ are comparable so that there are no covariant (cross) terms in the error expansion.\n",
    "\n",
    "Therefore,\n",
    "\\begin{equation*}\n",
    "\\sigma_Q = \\sigma_U = \\sigma_{Q,U} \\\\\n",
    "\\sigma_{QI} = \\sigma_{QU} = \\sigma_{UI} = 0\n",
    "\\end{equation*}\n",
    "\n",
    "$\\require{cancel}$\n",
    "\\begin{align}\n",
    "\\sigma_p & = \\frac{100}{I}\\sqrt{\\frac{1}{(\\cancel{Q^2+U^2})}\\left[\\sigma_{Q,U}^2\\left(\\cancel{Q^2+U^2}\\right)\\right]+\n",
    "\\sigma_I^2\\left(\\frac{Q^2+U^2}{I^2}\\right)} \\\\\n",
    "\\sigma_p & = \\frac{100}{I}\\sqrt{\\sigma_{Q,U}^2+\\sigma_I^2\\left(\\frac{Q^2+U^2}{I^2}\\right)}=\n",
    "\\frac{1}{I}\\sqrt{\\sigma_{Q,U}^2+\\sigma_I^2\\,p^2}\n",
    "\\end{align}\n",
    "\n",
    "If we assume that $p$ is relatively small (e.g. the source is not highly polarized), and that the errors in $I$ are small, then the second term ($\\sigma_I^2\\,p^2$) is negligible.\n",
    "\n",
    "\\begin{equation*}\n",
    "\\sigma_p = \\frac{\\sigma_{Q,U}}{I}\n",
    "\\end{equation*}\n",
    "\n",
    "By design, the HAWC+ optics split the incident radiation into two orthogonal linear polarization states that are measured with two independent detector arrays. The total intensity, Stokes $I$, is recovered by linearly adding both polarization states. If the data is taken at four equally-spaced HWP angles, and assuming 100% efficiency of the instrument, then the uncertainty in $I$ is related to the uncertanties in $Q$ and $U$:\n",
    "\\begin{equation*}\n",
    "\\sigma_Q\\sim\\sigma_U\\sim\\sqrt{2}\\,\\sigma_I\n",
    "\\end{equation*}\n",
    "\n",
    "This simplifies our error on $p$ to:\n",
    "\\begin{align}\n",
    "\\sigma_p &\\sim \\sqrt{2}\\frac{\\sigma_I}{I} \\\\\n",
    "\\sigma_p &\\sim \\frac{\\sqrt{2}}{\\left(S/N\\right)_I}\n",
    "\\end{align}\n",
    "\n",
    "If we desire an error in $p$ of $\\sim0.5\\%$, what is the required signal-to-noise in $I$?\n",
    "\n",
    "\\begin{align}\n",
    "    \\left(\\mathrm{S/N}\\right)_I & \\sim \\sqrt{2}\\left(\\frac{1}{\\sigma_p}\\right) \\sim \\sqrt{2}\\frac{1}{0.5\\%} \\\\\n",
    "    & \\sim \\frac{\\sqrt{2}}{0.005} \\sim 283\n",
    "\\end{align}\n",
    "\n",
    "So, therefore if we desire an accuracy of $\\sigma_p\\sim0.5\\%$, we require a S/N in total intensity $I$ of $\\sim283$.\n",
    "\n",
    "This S/N cut in $I$ is very conservative.  In the Level 4 HAWC+ data, the last extension, FINAL POL DATA, contains a table of values similar to POL DATA, with somewhat less restrictive quality cuts applied.  This extension includes vectors satisfying the following three criteria:\n",
    "1.  (S/N$_I$) > 200\n",
    "2.  (S/N$_p$) > 3\n",
    "3.  $p<50\\%$\n",
    "\n",
    "Since we include maps of all measurable polarization information with the full data set, you are free to decide on any quality cuts that satisfy your scientific needs.\n",
    "\n",
    "In this next panel, we include a single quality cut on S/N > 100, by performing the following steps:\n",
    "1.  use the Stokes $I$ image as the background for the vector plot\n",
    "2.  perform a quality cut on Stokes $I/\\sigma_I > 100$ to make a mask\n",
    "3.  mask out low S/N vectors\n",
    "4.  plot remaining polarization vectors\n",
    "5.  add contours to better visualize changes in flux across the map"
   ]
  },
  {
   "cell_type": "code",
   "execution_count": 6,
   "metadata": {},
   "outputs": [],
   "source": [
    "from astropy.io import fits\n",
    "import numpy as np\n",
    "from aplpy import FITSFigure\n",
    "\n",
    "def make_polmap(filename, title=None, figure=None, subplot=(1,1,1)):\n",
    "    hawc = fits.open(filename)\n",
    "    p = hawc['DEBIASED PERCENT POL']    # %\n",
    "    theta = hawc['ROTATED POL ANGLE']   # deg\n",
    "    stokes_i = hawc['STOKES I']         # I\n",
    "    error_i = hawc['ERROR I']           # error I\n",
    "    \n",
    "    # 1. plot Stokes I\n",
    "    #  convert from Jy/pix to Jy/sq. arcsec\n",
    "    pxscale = stokes_i.header['CDELT2']*3600  # map scale in arcsec/pix.  CDELT2 always in deg\n",
    "    stokes_i.data /= pxscale**2\n",
    "    error_i.data /= pxscale**2\n",
    "\n",
    "    fig = FITSFigure(stokes_i, figure=figure, subplot=subplot)\n",
    "\n",
    "    # 2. perform S/N cuts on I/sigma_I, and p/sigma_p\n",
    "    i_err_lim = 100\n",
    "    mask = np.where(stokes_i.data/error_i.data < i_err_lim)\n",
    "\n",
    "    # 3. mask out low S/N vectors by setting masked indices to NaN\n",
    "    p.data[mask] = np.nan\n",
    "\n",
    "    # 4. plot vectors\n",
    "    scalevec = 0.4  # 1pix = scalevec * 1% pol          # scale vectors to make it easier to see \n",
    "    fig.show_vectors(p, theta, scale=scalevec, step=2)  # step size = display every 'step' vectors\n",
    "                                                        #   step size of 2 is effectively Nyquist sampling\n",
    "                                                        #   --close to the beam size\n",
    "\n",
    "    # 5. plot contours\n",
    "    ncontours = 30\n",
    "    fig.show_contour(stokes_i, cmap=cmap, levels=ncontours,\n",
    "                     filled=True, smooth=1, kernel='box')\n",
    "    fig.show_contour(stokes_i, colors='gray', levels=ncontours,\n",
    "                     smooth=1, kernel='box', linewidths=0.3)\n",
    "\n",
    "    # Show image\n",
    "    fig.show_colorscale(cmap=cmap)\n",
    "    \n",
    "    # If title, set it\n",
    "    if title:\n",
    "        fig.set_title(title)\n",
    "\n",
    "    # Add colorbar\n",
    "    fig.add_colorbar()\n",
    "    fig.colorbar.set_axis_label_text('Flux (Jy/arcsec$^2$)')\n",
    "\n",
    "    # Add beam indicator\n",
    "    fig.add_beam(facecolor='red', edgecolor='black',\n",
    "                 linewidth=2, pad=1, corner='bottom left')\n",
    "    fig.add_label(0.02, 0.02, 'Beam FWHM',\n",
    "                  horizontalalignment='left', weight='bold',\n",
    "                  relative=True, size='small')\n",
    "\n",
    "    # Add vector scale\n",
    "    #   polarization vectors are displayed such that 'scalevec' * 1% pol is 1 pix long\n",
    "    #   must translate pixel size to angular degrees since the 'add_scalebar' function assumes a physical scale\n",
    "    vectscale = scalevec * pxscale/3600\n",
    "    fig.add_scalebar(5 * vectscale, \"p = 5%\",corner='top right',frame=True)\n",
    "    \n",
    "    # FORMATTING\n",
    "    fig.tick_labels.set_font(size='small')\n",
    "    fig.axis_labels.set_font(size='small')\n",
    "    \n",
    "    return stokes_i, p, mask, fig"
   ]
  },
  {
   "cell_type": "code",
   "execution_count": 7,
   "metadata": {},
   "outputs": [],
   "source": [
    "stokes_i, p, mask, fig = make_polmap(afile, title='A')"
   ]
  },
  {
   "cell_type": "markdown",
   "metadata": {},
   "source": [
    "----\n",
    "### Plotting Polarization Fraction\n",
    "\n",
    "We can also plot the polarization fraction $p$ to better visualize the structure of 30 Doradus.  We plot the same contours from total intensity $I$ in the background."
   ]
  },
  {
   "cell_type": "code",
   "execution_count": 8,
   "metadata": {},
   "outputs": [],
   "source": [
    "fig = FITSFigure(p)\n",
    "\n",
    "# Show image\n",
    "fig.show_colorscale(cmap=cmap)\n",
    "\n",
    "# Plot contours\n",
    "ncontours = 30\n",
    "fig.show_contour(stokes_i, colors='gray', levels=ncontours,\n",
    "                 smooth=1, kernel='box', linewidths=0.3)\n",
    "\n",
    "# Add colorbar\n",
    "fig.add_colorbar()\n",
    "fig.colorbar.set_axis_label_text('$p^\\prime$ (%)')"
   ]
  },
  {
   "cell_type": "markdown",
   "metadata": {},
   "source": [
    "----\n",
    "## HAWC+ Polarization Maps\n",
    "\n",
    "Finally, using the function defined above, we plot all four HAWC+ observations of 30 Doradus."
   ]
  },
  {
   "cell_type": "code",
   "execution_count": 9,
   "metadata": {},
   "outputs": [],
   "source": [
    "files = [afile,cfile,dfile,efile]\n",
    "titles = ['A','C','D','E']\n",
    "\n",
    "for file, title in zip(files,titles):\n",
    "    make_polmap(file,title)"
   ]
  }
 ],
 "metadata": {
  "kernelspec": {
   "display_name": "Python 3 (ipykernel)",
   "language": "python",
   "name": "python3"
  },
  "language_info": {
   "codemirror_mode": {
    "name": "ipython",
    "version": 3
   },
   "file_extension": ".py",
   "mimetype": "text/x-python",
   "name": "python",
   "nbconvert_exporter": "python",
   "pygments_lexer": "ipython3",
   "version": "3.9.7"
  }
 },
 "nbformat": 4,
 "nbformat_minor": 4
}
