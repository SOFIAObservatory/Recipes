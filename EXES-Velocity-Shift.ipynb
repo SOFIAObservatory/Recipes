{
 "cells": [
  {
   "cell_type": "markdown",
   "id": "edda6f99",
   "metadata": {},
   "source": [
    "EXES: Velocity Calculation\n",
    "================\n",
    "* **Aim**: Estimate velocity shift given the system's heliocentric velocity, date-of-observation, and any additional shift. <br />"
   ]
  },
  {
   "cell_type": "markdown",
   "id": "d7162ec3",
   "metadata": {},
   "source": [
    "## Intro\n",
    "\n",
    "The spectral lines detected by EXES are typically shifted so that they can be observed in the wings of telluric features. To calculate the expected shift in the lines, you have to account for: \n",
    "\n",
    "1. a target's systemic velocity\n",
    "\n",
    "2. the velocity changes depending on the Earth's orbital motion around the Sun (seasonal variations)\n",
    "\n",
    "3. any shifts due to doppler shifted winds (e.g. an expansion velocity)"
   ]
  },
  {
   "cell_type": "markdown",
   "id": "aa9c02b4",
   "metadata": {},
   "source": [
    "## Imports"
   ]
  },
  {
   "cell_type": "code",
   "execution_count": 1,
   "id": "e4d98219",
   "metadata": {
    "execution": {
     "iopub.execute_input": "2022-03-29T16:07:37.765857Z",
     "iopub.status.busy": "2022-03-29T16:07:37.765105Z",
     "iopub.status.idle": "2022-03-29T16:07:37.774617Z",
     "shell.execute_reply": "2022-03-29T16:07:37.773868Z"
    }
   },
   "outputs": [],
   "source": [
    "import astropy.units as u\n",
    "from astropy.time import Time\n",
    "from astropy.coordinates import SkyCoord, EarthLocation, AltAz, GCRS, LSR, FK5"
   ]
  },
  {
   "cell_type": "markdown",
   "id": "1fd46a69",
   "metadata": {},
   "source": [
    "## Inputs"
   ]
  },
  {
   "cell_type": "code",
   "execution_count": 2,
   "id": "3a25a0d2",
   "metadata": {
    "execution": {
     "iopub.execute_input": "2022-03-29T16:07:37.779386Z",
     "iopub.status.busy": "2022-03-29T16:07:37.778807Z",
     "iopub.status.idle": "2022-03-29T16:07:37.873590Z",
     "shell.execute_reply": "2022-03-29T16:07:37.873277Z"
    }
   },
   "outputs": [],
   "source": [
    "observation_time = Time(\"2022-2-26\")\n",
    "v_sys = 15 * u.km / u.s  # km/s systemic velocity\n",
    "observation_location = EarthLocation.of_site(\"Lick Observatory\")  # Doesn't have large impact on values\n",
    "\n",
    "coords = SkyCoord(\"09:10:38.7978379 +30:57:47.295961\", unit=(u.hourangle, u.deg))\n",
    "\n",
    "# If you have the position in degrees\n",
    "# coords = SkyCoord(\n",
    "#     \"137.66165765791663 30.963137766944445\", unit=(u.deg, u.deg)\n",
    "# )"
   ]
  },
  {
   "cell_type": "code",
   "execution_count": 3,
   "id": "17b2725c",
   "metadata": {
    "execution": {
     "iopub.execute_input": "2022-03-29T16:07:37.875371Z",
     "iopub.status.busy": "2022-03-29T16:07:37.875270Z",
     "iopub.status.idle": "2022-03-29T16:07:38.369008Z",
     "shell.execute_reply": "2022-03-29T16:07:38.368679Z"
    }
   },
   "outputs": [],
   "source": [
    "vgeo = coords.radial_velocity_correction(\n",
    "    kind=\"heliocentric\", obstime=observation_time, location=observation_location\n",
    ").to(u.km / u.s)\n",
    "v_corrected = v_sys - vgeo"
   ]
  },
  {
   "cell_type": "code",
   "execution_count": 8,
   "id": "e9205f98",
   "metadata": {
    "execution": {
     "iopub.execute_input": "2022-03-29T16:07:38.370845Z",
     "iopub.status.busy": "2022-03-29T16:07:38.370738Z",
     "iopub.status.idle": "2022-03-29T16:07:38.389468Z",
     "shell.execute_reply": "2022-03-29T16:07:38.389171Z"
    }
   },
   "outputs": [
    {
     "data": {
      "text/latex": [
       "$27.249358 \\; \\mathrm{\\frac{km}{s}}$"
      ],
      "text/plain": [
       "<Quantity 27.24935759 km / s>"
      ]
     },
     "execution_count": 8,
     "metadata": {},
     "output_type": "execute_result"
    }
   ],
   "source": [
    "v_corrected"
   ]
  },
  {
   "cell_type": "markdown",
   "id": "d2d5564e",
   "metadata": {},
   "source": [
    "Don't forget to add any additional winds within the system (e.g. expansion velocity). "
   ]
  },
  {
   "cell_type": "code",
   "execution_count": 13,
   "id": "5e76acb9",
   "metadata": {},
   "outputs": [
    {
     "data": {
      "text/plain": [
       "<Time object: scale='utc' format='iso' value=2022-02-26 00:00:00.000>"
      ]
     },
     "execution_count": 13,
     "metadata": {},
     "output_type": "execute_result"
    }
   ],
   "source": [
    "observation_time"
   ]
  },
  {
   "cell_type": "raw",
   "id": "017dd86e",
   "metadata": {},
   "source": []
  }
 ],
 "metadata": {
  "kernelspec": {
   "display_name": "Python 3 (ipykernel)",
   "language": "python",
   "name": "python3"
  },
  "language_info": {
   "codemirror_mode": {
    "name": "ipython",
    "version": 3
   },
   "file_extension": ".py",
   "mimetype": "text/x-python",
   "name": "python",
   "nbconvert_exporter": "python",
   "pygments_lexer": "ipython3",
   "version": "3.9.7"
  }
 },
 "nbformat": 4,
 "nbformat_minor": 5
}
