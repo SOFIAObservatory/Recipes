{
 "cells": [
  {
   "cell_type": "markdown",
   "id": "edda6f99",
   "metadata": {},
   "source": [
    "EXES: Velocity Calculation\n",
    "================\n",
    "* **Aim**: Estimate velocity shift given the system's heliocentric velocity, date-of-observation, and any additional shift. <br />"
   ]
  },
  {
   "cell_type": "markdown",
   "id": "d7162ec3",
   "metadata": {},
   "source": [
    "## Intro\n",
    "\n",
    "The spectral lines detected by EXES are typically shifted so that they can be observed in the wings of telluric features. To calculate the expected shift in the lines, you have to account for: \n",
    "\n",
    "1. a target's systemic velocity\n",
    "\n",
    "2. the velocity changes depending on the Earth's orbital motion around the Sun (seasonal variations)\n",
    "\n",
    "3. any shifts due to doppler shifted winds (e.g. an expansion velocity)"
   ]
  },
  {
   "cell_type": "markdown",
   "id": "aa9c02b4",
   "metadata": {},
   "source": [
    "## Imports"
   ]
  },
  {
   "cell_type": "code",
   "execution_count": 1,
   "id": "e4d98219",
   "metadata": {
    "execution": {
     "iopub.execute_input": "2023-09-21T00:15:01.933258Z",
     "iopub.status.busy": "2023-09-21T00:15:01.932984Z",
     "iopub.status.idle": "2023-09-21T00:15:02.489087Z",
     "shell.execute_reply": "2023-09-21T00:15:02.488480Z"
    }
   },
   "outputs": [],
   "source": [
    "import astropy.units as u\n",
    "from astropy.time import Time\n",
    "from astropy.coordinates import SkyCoord, EarthLocation, AltAz, GCRS, LSR, FK5"
   ]
  },
  {
   "cell_type": "markdown",
   "id": "1fd46a69",
   "metadata": {},
   "source": [
    "## Inputs"
   ]
  },
  {
   "cell_type": "code",
   "execution_count": 2,
   "id": "3a25a0d2",
   "metadata": {
    "execution": {
     "iopub.execute_input": "2023-09-21T00:15:02.492726Z",
     "iopub.status.busy": "2023-09-21T00:15:02.492503Z",
     "iopub.status.idle": "2023-09-21T00:15:02.575431Z",
     "shell.execute_reply": "2023-09-21T00:15:02.574638Z"
    }
   },
   "outputs": [],
   "source": [
    "observation_time = Time(\"2022-2-26\")\n",
    "v_sys = 15 * u.km / u.s  # km/s systemic velocity\n",
    "observation_location = EarthLocation.of_site(\"Lick Observatory\")  # Doesn't have large impact on values\n",
    "\n",
    "coords = SkyCoord(\"09:10:38.7978379 +30:57:47.295961\", unit=(u.hourangle, u.deg))\n",
    "\n",
    "# If you have the position in degrees\n",
    "# coords = SkyCoord(\n",
    "#     \"137.66165765791663 30.963137766944445\", unit=(u.deg, u.deg)\n",
    "# )"
   ]
  },
  {
   "cell_type": "code",
   "execution_count": 3,
   "id": "17b2725c",
   "metadata": {
    "execution": {
     "iopub.execute_input": "2023-09-21T00:15:02.578618Z",
     "iopub.status.busy": "2023-09-21T00:15:02.578411Z",
     "iopub.status.idle": "2023-09-21T00:15:03.223042Z",
     "shell.execute_reply": "2023-09-21T00:15:03.222415Z"
    }
   },
   "outputs": [],
   "source": [
    "vgeo = coords.radial_velocity_correction(\n",
    "    kind=\"heliocentric\", obstime=observation_time, location=observation_location\n",
    ").to(u.km / u.s)\n",
    "v_corrected = v_sys - vgeo"
   ]
  },
  {
   "cell_type": "code",
   "execution_count": 4,
   "id": "e9205f98",
   "metadata": {
    "execution": {
     "iopub.execute_input": "2023-09-21T00:15:03.226093Z",
     "iopub.status.busy": "2023-09-21T00:15:03.225879Z",
     "iopub.status.idle": "2023-09-21T00:15:03.250356Z",
     "shell.execute_reply": "2023-09-21T00:15:03.249682Z"
    }
   },
   "outputs": [
    {
     "data": {
      "text/latex": [
       "$27.249358 \\; \\mathrm{\\frac{km}{s}}$"
      ],
      "text/plain": [
       "<Quantity 27.24935759 km / s>"
      ]
     },
     "execution_count": 4,
     "metadata": {},
     "output_type": "execute_result"
    }
   ],
   "source": [
    "v_corrected"
   ]
  },
  {
   "cell_type": "markdown",
   "id": "d2d5564e",
   "metadata": {},
   "source": [
    "Don't forget to add any additional winds within the system (e.g. expansion velocity). "
   ]
  }
 ],
 "metadata": {
  "kernelspec": {
   "display_name": "Python 3 (ipykernel)",
   "language": "python",
   "name": "python3"
  },
  "language_info": {
   "codemirror_mode": {
    "name": "ipython",
    "version": 3
   },
   "file_extension": ".py",
   "mimetype": "text/x-python",
   "name": "python",
   "nbconvert_exporter": "python",
   "pygments_lexer": "ipython3",
   "version": "3.8.17"
  }
 },
 "nbformat": 4,
 "nbformat_minor": 5
}
