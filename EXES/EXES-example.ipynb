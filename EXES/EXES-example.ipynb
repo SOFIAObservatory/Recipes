{
 "cells": [
  {
   "cell_type": "markdown",
   "metadata": {},
   "source": [
    "# EXES data: Basic Inspection and Assessment\n",
    "\n",
    "\n",
    "## Introduction\n",
    "\n",
    "This recipe provides an overview and sample python code for . . .\n",
    "\n",
    "[Proposing and Observing  page on the SOFIA website](https://www.sofia.usra.edu/researchers/proposing-and-observing); \n",
    "\n",
    "\n",
    "EXES data products are described in the [FORCAST GO Data Handbook](https://www.sofia.usra.edu/sites/default/files/USpot_DCS_DPS/Documents/FORCAST_data_handbook.pdf).  \n",
    "\n",
    "[FORCAST GO Data Handbook](https://www.sofia.usra.edu/sites/default/files/USpot_DCS_DPS/Documents/FORCAST_data_handbook.pdf) for details regarding the artifacts, pipeline algorithms, and the flux-calibration process.  \n",
    "\n",
    " "
   ]
  },
  {
   "cell_type": "code",
   "execution_count": null,
   "metadata": {},
   "outputs": [],
   "source": []
  }
 ],
 "metadata": {
  "kernelspec": {
   "display_name": "Python 3",
   "language": "python",
   "name": "python3"
  },
  "language_info": {
   "codemirror_mode": {
    "name": "ipython",
    "version": 3
   },
   "file_extension": ".py",
   "mimetype": "text/x-python",
   "name": "python",
   "nbconvert_exporter": "python",
   "pygments_lexer": "ipython3",
   "version": "3.9.7"
  }
 },
 "nbformat": 4,
 "nbformat_minor": 2
}
