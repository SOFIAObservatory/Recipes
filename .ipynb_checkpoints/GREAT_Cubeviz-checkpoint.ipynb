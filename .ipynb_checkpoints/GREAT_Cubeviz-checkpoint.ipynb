{
 "cells": [
  {
   "cell_type": "markdown",
   "id": "9454e65b",
   "metadata": {},
   "source": [
    "GREAT: data visualization (python/glue)\n",
    "================\n",
    "* **Aim**: Visualize GREAT datacube using the jdaviz: Cubeviz adn Glue. <br />\n",
    "* **Data**: Level 3 data. <br />\n",
    "* **Tools**: jdaviz, Cubeviz, Glue <br />\n",
    "* **Instrument**: GREAT <br />\n",
    "* **Documentation**: [GREAT observer's handbook](https://www.sofia.usra.edu/instruments/great)\n",
    "* **Notebook repository**: https://github.com/SOFIAObservatory/Recipes"
   ]
  },
  {
   "cell_type": "markdown",
   "id": "90973780",
   "metadata": {},
   "source": [
    "Goals\n",
    "-------\n",
    "* Visualize GREAT data\n",
    "* Pan through 2D image slices using spectral viewer\n",
    "* Create and export moment map\n",
    "* Create 3D volume rendering using Glue"
   ]
  },
  {
   "cell_type": "markdown",
   "id": "ddb0e4ab",
   "metadata": {},
   "source": [
    "Introduction\n",
    "--------------\n",
    "\n",
    "This recipe is a beginner's introduction to visualizing GREAT datacubes using the [jdaviz](https://jdaviz.readthedocs.io/en/latest/) tool Cubeviz. This is one of several tools in the STScI data analysis tool ecosystem. A video tutorial for the general functionality of the tool cav be found [here](https://www.youtube.com/watch?v=HMSYwiH3Gl4)."
   ]
  },
  {
   "cell_type": "markdown",
   "id": "4534c60f",
   "metadata": {},
   "source": [
    "Imports \n",
    "---------------"
   ]
  },
  {
   "cell_type": "code",
   "execution_count": 1,
   "id": "1bc92a71",
   "metadata": {},
   "outputs": [],
   "source": [
    "import specutils\n",
    "import jdaviz\n",
    "import numpy as np\n",
    "from astropy.io import fits\n",
    "from astropy.wcs import WCS\n",
    "from astropy import units as u\n",
    "from astropy.utils.data import download_file\n",
    "from IPython.display import Video\n",
    "import warnings\n",
    "warnings.simplefilter('ignore')\n"
   ]
  },
  {
   "cell_type": "markdown",
   "id": "8c362b58",
   "metadata": {},
   "source": [
    "Ingredients\n",
    "---------------\n",
    "\n",
    "The data come from the [C II Maps in Massive Star Formation Regions](https://www.sofia.usra.edu/data/selected-highlights-data-archive/star-formation/new-c-ii-maps-massive-star-formation-regions) from the FEEDBACK survey. \n",
    "\n",
    "#### The slice of the data used in this tutorial can be downloaded directly [here](https://zenodo.org/record/6574197/files/FEEDBACK_RCW120_GREAT_example_subset.fits?download=1), \n",
    "\n",
    "You can download the full Level 4 dataset via the [IRSA archive](https://irsa.ipac.caltech.edu/Missions/sofia.html) using the program_ID: 07_0077.\n"
   ]
  },
  {
   "cell_type": "code",
   "execution_count": 2,
   "id": "c2e94cd8-6c7c-49ba-9ae2-0ee8219bf4f0",
   "metadata": {},
   "outputs": [],
   "source": [
    "#load data\n",
    "f = fits.open('example_data/GREAT/FEEDBACK_RCW120_GREAT_example_subset.fits')\n",
    "spec = specutils.Spectrum1D(flux=f[0].data*u.K, wcs=WCS(f[0]))"
   ]
  },
  {
   "cell_type": "code",
   "execution_count": 3,
   "id": "31146d3d-7d28-4ad4-85d5-ee8457e70c33",
   "metadata": {
    "scrolled": false
   },
   "outputs": [
    {
     "data": {
      "application/vnd.jupyter.widget-view+json": {
       "model_id": "9309140837fe4703a8671ed6dda724d3",
       "version_major": 2,
       "version_minor": 0
      },
      "text/plain": [
       "Application(config='cubeviz', events=['call_viewer_method', 'close_snackbar_message', 'data_item_selected', 'd…"
      ]
     },
     "metadata": {},
     "output_type": "display_data"
    }
   ],
   "source": [
    "viz = jdaviz.CubeViz()\n",
    "viz.show_inline()\n",
    "viz.load_data(spec)"
   ]
  },
  {
   "cell_type": "markdown",
   "id": "0f757245",
   "metadata": {},
   "source": [
    "The interface is based on [Glue](https://glueviz.org/), and so you can change the appearance, range, scale, and variables. You can also plot a smoother version of the spectra, plot available line lists, create moment maps, change units, and export the specrtum. \n",
    "\n",
    "For moment maps, select plot options and scroll down to Moment Maps, then select where to plot the moment map (\"Plot in Viewer\": center), specified Moment (0) and then hit calculate. You can then export the image as a image (png) or data file (fits). "
   ]
  },
  {
   "cell_type": "markdown",
   "id": "07800737",
   "metadata": {},
   "source": [
    " "
   ]
  },
  {
   "cell_type": "markdown",
   "id": "33894bf6",
   "metadata": {},
   "source": [
    "3D Visualization of datacubes using Glue\n",
    "-----------\n",
    " \n",
    "We can also visualize the datacube using Glue's easy-to-use GUI and its \"3D Volumne Rendering\" function. While not to scale in the Z-direction (velocity), it gives us an excellent view of the system as a whole. \n",
    "\n",
    "We can then display the movie in our Jupyter notebook using the IPython.display.Video function. "
   ]
  },
  {
   "cell_type": "code",
   "execution_count": 4,
   "id": "5999ab12",
   "metadata": {},
   "outputs": [
    {
     "data": {
      "text/html": [
       "<video src=\"example_data/GREAT/rcw_120.mov\" controls  width=\"500\" >\n",
       "      Your browser does not support the <code>video</code> element.\n",
       "    </video>"
      ],
      "text/plain": [
       "<IPython.core.display.Video object>"
      ]
     },
     "execution_count": 4,
     "metadata": {},
     "output_type": "execute_result"
    }
   ],
   "source": [
    "Video(\"example_data/GREAT/rcw_120.mov\", width=500)"
   ]
  },
  {
   "cell_type": "markdown",
   "id": "33c85017",
   "metadata": {},
   "source": [
    " "
   ]
  }
 ],
 "metadata": {
  "kernelspec": {
   "display_name": "Python 3 (ipykernel)",
   "language": "python",
   "name": "python3"
  },
  "language_info": {
   "codemirror_mode": {
    "name": "ipython",
    "version": 3
   },
   "file_extension": ".py",
   "mimetype": "text/x-python",
   "name": "python",
   "nbconvert_exporter": "python",
   "pygments_lexer": "ipython3",
   "version": "3.9.7"
  }
 },
 "nbformat": 4,
 "nbformat_minor": 5
}
