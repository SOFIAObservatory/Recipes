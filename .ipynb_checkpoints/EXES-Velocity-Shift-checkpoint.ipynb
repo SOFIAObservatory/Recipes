{
 "cells": [
  {
   "cell_type": "markdown",
   "id": "edda6f99",
   "metadata": {},
   "source": [
    "EXES: Velocity Calculation\n",
    "================\n",
    "* **Aim**: Estimate velocity shift given the system's velocity, date-of-observation, and any additional shift. <br />"
   ]
  },
  {
   "cell_type": "markdown",
   "id": "d7162ec3",
   "metadata": {},
   "source": [
    "## Intro\n",
    "\n",
    "The spectral lines detected by EXES are typically shifted so that they can be observed in the wings of telluric features. To calculate the expected shift in the lines, you have to account for 1) a target's systemic velocity, 2) the velocity changes depending on the Earth's orbital motion around the Sun (seasonal variations), as well as 3) any shifts due to doppler shifted winds (e.g. an expansion velocity)."
   ]
  },
  {
   "cell_type": "markdown",
   "id": "aa9c02b4",
   "metadata": {},
   "source": [
    "## Imports"
   ]
  },
  {
   "cell_type": "code",
   "execution_count": 1,
   "id": "e4d98219",
   "metadata": {},
   "outputs": [],
   "source": [
    "import EXES_velocity\n",
    "import astropy.units as u"
   ]
  },
  {
   "cell_type": "markdown",
   "id": "1fd46a69",
   "metadata": {},
   "source": [
    "## Inputs"
   ]
  },
  {
   "cell_type": "code",
   "execution_count": 2,
   "id": "b9f5fdea",
   "metadata": {},
   "outputs": [],
   "source": [
    "coords = SkyCoord(\"09:10:38.7978379 +30:57:47.295961\", unit=(u.hourangle, u.deg))\n",
    "\n",
    "# If you have the position in degrees\n",
    "# coords = SkyCoord(\n",
    "#     \"137.66165765791663 30.963137766944445\", unit=(u.deg, u.deg)\n",
    "# )\n",
    "\n",
    "year = 2022\n",
    "month = 2\n",
    "day = 26\n",
    "hour = 4.5\n",
    "v_sys = 15  # km/s systemic velocity\n",
    "velocity_type = \"lsr\"  # or 'helio' for heliocentric\n",
    "v_exp = 5  # add if there is an additional expansion velocity"
   ]
  },
  {
   "cell_type": "markdown",
   "id": "fad78773",
   "metadata": {},
   "source": [
    "## Calculation\n",
    "The functions used in this calculation are all in the *EXES_velocity.py* file, located within this directory."
   ]
  },
  {
   "cell_type": "code",
   "execution_count": 3,
   "id": "42150ade",
   "metadata": {
    "scrolled": true
   },
   "outputs": [
    {
     "data": {
      "text/plain": [
       "32.68269235735006"
      ]
     },
     "execution_count": 3,
     "metadata": {},
     "output_type": "execute_result"
    }
   ],
   "source": [
    "# for systemic velocities in LSR (km/s)\n",
    "EXES_velocity.calc(v_sys, coords, year, month, day, hour, velocity_type, v_exp)"
   ]
  },
  {
   "cell_type": "code",
   "execution_count": null,
   "id": "88748fb5",
   "metadata": {},
   "outputs": [],
   "source": []
  }
 ],
 "metadata": {
  "kernelspec": {
   "display_name": "Python 3 (ipykernel)",
   "language": "python",
   "name": "python3"
  },
  "language_info": {
   "codemirror_mode": {
    "name": "ipython",
    "version": 3
   },
   "file_extension": ".py",
   "mimetype": "text/x-python",
   "name": "python",
   "nbconvert_exporter": "python",
   "pygments_lexer": "ipython3",
   "version": "3.9.7"
  }
 },
 "nbformat": 4,
 "nbformat_minor": 5
}
