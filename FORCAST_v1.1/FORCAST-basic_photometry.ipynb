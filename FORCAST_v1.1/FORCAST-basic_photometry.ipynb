{
 "cells": [
  {
   "cell_type": "markdown",
   "id": "212fb873",
   "metadata": {},
   "source": [
    "## FORCAST Basic photometry\n",
    "-------------------\n",
    "**Aim**: Simple aperture photometry and uncertainty calculation. <br />\n",
    "**Data**: Symbiotic Mira, HM Sge <br />\n",
    "**Tools**: astropy, photutils <br />\n",
    "**Instrument**: FORCAST<br />\n",
    "**Documentation**: [FORCAST data handbook](https://www.sofia.usra.edu/sites/default/files/USpot_DCS_DPS/Documents/FORCAST_data_handbook.pdf).<br />"
   ]
  },
  {
   "cell_type": "markdown",
   "id": "cbc39522",
   "metadata": {},
   "source": [
    "## Introduction\n",
    "This turotial will go through the basic process of aperture photometry for a single source. The data used are Level 3 flux calibrated imaging data for a public dataset targeting the Symbiotic Mira, HM Sge, in FORCAST's 5.6um filter. Access to this, and other, data can be found at the Infrared Science Archive [(IRSA)](https://irsa.ipac.caltech.edu/Missions/sofia.html). For further instructions on this process refer to the FORCAST data handbook referenced above.  "
   ]
  },
  {
   "cell_type": "markdown",
   "id": "84c984ec",
   "metadata": {},
   "source": [
    "## Goals\n",
    "* Determine the sum of the flux within an aperture .\n",
    "* Determin the sum of flux within a larger annulus for background determination.\n",
    "* Subtract background flux."
   ]
  },
  {
   "cell_type": "markdown",
   "id": "4b33e4ab",
   "metadata": {},
   "source": [
    "## Import packages"
   ]
  },
  {
   "cell_type": "code",
   "execution_count": 1,
   "id": "e94b5dde",
   "metadata": {},
   "outputs": [],
   "source": [
    "from astropy import units as u\n",
    "from astropy.io import fits\n",
    "from astropy.wcs import WCS\n",
    "import matplotlib.pyplot as plt\n",
    "from astropy.coordinates import SkyCoord\n",
    "from photutils.aperture import (\n",
    "    CircularAperture,\n",
    "    CircularAnnulus,\n",
    "    aperture_photometry,\n",
    ")"
   ]
  },
  {
   "cell_type": "markdown",
   "id": "e0ce488c",
   "metadata": {},
   "source": [
    "## Load data"
   ]
  },
  {
   "cell_type": "code",
   "execution_count": 2,
   "id": "3daa0110",
   "metadata": {},
   "outputs": [
    {
     "name": "stderr",
     "output_type": "stream",
     "text": [
      "WARNING: FITSFixedWarning: 'datfix' made the change 'Set MJD-OBS to 59396.259012 from DATE-OBS'. [astropy.wcs.wcs]\n"
     ]
    }
   ],
   "source": [
    "filename = \"F0753_FO_IMA_7500575_FORF056_CAL_0109-0111.fits\"\n",
    "data = fits.open(filename)\n",
    "hdr = data[0].header\n",
    "w = WCS(data[0].header)"
   ]
  },
  {
   "cell_type": "code",
   "execution_count": 10,
   "id": "80076245",
   "metadata": {},
   "outputs": [],
   "source": [
    "# Aperture sum function\n",
    "def get_aperture_sum(data, pos_pix, r_pix):\n",
    "    pix_aperture = CircularAperture(pos_pix, r=r_pix)\n",
    "    sum_aperture = aperture_photometry(data[0].data, pix_aperture)\n",
    "    return sum_aperture[\"aperture_sum\"], pix_aperture"
   ]
  },
  {
   "cell_type": "markdown",
   "id": "f9d6dc0e",
   "metadata": {},
   "source": [
    "## Get aperture radius sum\n",
    "The background annulus should be as large as possible without including other sources or large variations to ensure good statistics. We recommend using the same aperture and annulus as used for calibrators (12 pixels). It is also recommended to use a background annulus of 15-25 pixels so long as this does not include additional sources of flux. \n",
    "\n",
    "```diff\n",
    "- Warning: An aperture radius of 12 may not be appropriate for your observations.\n",
    "```\n"
   ]
  },
  {
   "cell_type": "code",
   "execution_count": null,
   "id": "8e1e862a",
   "metadata": {},
   "outputs": [],
   "source": [
    "# USER OPTIONS______________\n",
    "r_ap = 12\n",
    "background_aperture_inner_radius = 15.0\n",
    "background_aperture_outter_radius = 25.0\n",
    "\n",
    "target_ra = \"19:41:57.080\"\n",
    "target_dec = \"16:44:39.64\"\n",
    "# _________________________"
   ]
  },
  {
   "cell_type": "code",
   "execution_count": 14,
   "id": "15cc7c8e",
   "metadata": {},
   "outputs": [],
   "source": [
    "# get position in SkyCoord format\n",
    "pos = SkyCoord(target_ra, target_dec, unit=(u.hourangle, u.deg))\n",
    "# convert to pixels within data\n",
    "pos_pix = pos.to_pixel(w)\n",
    "# determin sum flux\n",
    "sum_jy, pix_aperture = get_aperture_sum(data, pos_pix, r_ap)"
   ]
  },
  {
   "cell_type": "markdown",
   "id": "bac2ce26",
   "metadata": {},
   "source": [
    "## Define background annulus"
   ]
  },
  {
   "cell_type": "code",
   "execution_count": 16,
   "id": "635bd936",
   "metadata": {},
   "outputs": [
    {
     "data": {
      "text/plain": [
       "(<matplotlib.patches.PathPatch at 0x7f99a9bd4970>,)"
      ]
     },
     "execution_count": 16,
     "metadata": {},
     "output_type": "execute_result"
    },
    {
     "data": {
      "image/png": "[encoded data removed]",
      "text/plain": [
       "<Figure size 432x288 with 1 Axes>"
      ]
     },
     "metadata": {
      "needs_background": "light"
     },
     "output_type": "display_data"
    }
   ],
   "source": [
    "# get WCS information of data\n",
    "w = WCS(data[0].header)\n",
    "# define background annulus of similar center and specified radii\n",
    "annulus_aperture = CircularAnnulus(\n",
    "    pos_pix,\n",
    "    r_in=background_aperture_inner_radius,\n",
    "    r_out=background_aperture_outter_radius,\n",
    ")\n",
    "# plot aperture and annulus\n",
    "plt.imshow(data[0].data, cmap=\"gray_r\", origin=\"lower\")\n",
    "pix_aperture.plot(color=\"blue\", lw=1.5, alpha=0.5)\n",
    "annulus_aperture.plot(color=\"red\", lw=1.5, alpha=0.5)"
   ]
  },
  {
   "cell_type": "markdown",
   "id": "cc311760",
   "metadata": {},
   "source": [
    "## Calculate and subtract background flux"
   ]
  },
  {
   "cell_type": "code",
   "execution_count": 17,
   "id": "e2ab1291",
   "metadata": {},
   "outputs": [
    {
     "name": "stdout",
     "output_type": "stream",
     "text": [
      "Flux removed: 0.001054 Jy\n",
      "background_substracted flux: 52.810753 Jy\n"
     ]
    }
   ],
   "source": [
    "# determine flux sum within background annulus\n",
    "bkg_results = aperture_photometry(data[0].data, annulus_aperture)\n",
    "# determine flux average in background annulus\n",
    "bkg_mean = bkg_results[\"aperture_sum\"] / annulus_aperture.area\n",
    "# subtract background average from flux sum within aperture.\n",
    "f0 = sum_jy[0] - bkg_mean[0]\n",
    "print(\"Flux removed: \" + \"{:.6f}\".format(bkg_mean[0]) + \" Jy\")\n",
    "print(\"background_substracted flux: \" + \"{:.6f}\".format(f0) + \" Jy\")"
   ]
  },
  {
   "cell_type": "markdown",
   "id": "9d4241c8",
   "metadata": {},
   "source": [
    "## Calculate uncertainty"
   ]
  },
  {
   "cell_type": "code",
   "execution_count": 19,
   "id": "c0cd3aa5",
   "metadata": {},
   "outputs": [
    {
     "data": {
      "image/png": "[encoded data removed]",
      "text/plain": [
       "<Figure size 432x288 with 1 Axes>"
      ]
     },
     "metadata": {
      "needs_background": "light"
     },
     "output_type": "display_data"
    }
   ],
   "source": [
    "# create annulus mask from previous created annulus aperture\n",
    "annulus_mask = annulus_aperture.to_mask(method=\"center\")\n",
    "# applying mask to data\n",
    "annulus_data = annulus_mask.multiply(data[0].data)\n",
    "# calculating standard deviation within background annulus\n",
    "annulus_std = np.std(annulus_data)\n",
    "# plotting data\n",
    "plt.imshow(annulus_data)"
   ]
  },
  {
   "cell_type": "code",
   "execution_count": 20,
   "id": "d4825e9a",
   "metadata": {},
   "outputs": [],
   "source": [
    "# calculating absolute uncertainty\n",
    "sigma_m = np.sqrt(\n",
    "    (\n",
    "        2 * np.pi * (r_ap * annulus_std / f0) ** 2\n",
    "        + (hdr[\"ERRCALF\"] / hdr[\"CALFCTR\"]) ** 2\n",
    "        + (0.0025)\n",
    "    )\n",
    ")"
   ]
  },
  {
   "cell_type": "markdown",
   "id": "d1e8d1c3",
   "metadata": {},
   "source": [
    "## Calculate final flux + uncertainty"
   ]
  },
  {
   "cell_type": "code",
   "execution_count": 21,
   "id": "f5c51435",
   "metadata": {},
   "outputs": [
    {
     "name": "stdout",
     "output_type": "stream",
     "text": [
      "(5.6 um): 52.810753 +/- 0.055915 Jy\n"
     ]
    }
   ],
   "source": [
    "uncertainty = sigma_m\n",
    "print(\n",
    "    \"(\"\n",
    "    + str(hdr[\"WAVELNTH\"])\n",
    "    + \" um): \"\n",
    "    + \"{:.6f}\".format(f0)\n",
    "    + \" +/- \"\n",
    "    + \"{:.6f}\".format(uncertainty)\n",
    "    + \" Jy\"\n",
    ")"
   ]
  },
  {
   "cell_type": "code",
   "execution_count": null,
   "id": "724502b0",
   "metadata": {},
   "outputs": [],
   "source": []
  }
 ],
 "metadata": {
  "kernelspec": {
   "display_name": "Python 3 (ipykernel)",
   "language": "python",
   "name": "python3"
  },
  "language_info": {
   "codemirror_mode": {
    "name": "ipython",
    "version": 3
   },
   "file_extension": ".py",
   "mimetype": "text/x-python",
   "name": "python",
   "nbconvert_exporter": "python",
   "pygments_lexer": "ipython3",
   "version": "3.9.7"
  }
 },
 "nbformat": 4,
 "nbformat_minor": 5
}
