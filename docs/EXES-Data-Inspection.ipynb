{
 "cells": [
  {
   "cell_type": "markdown",
   "id": "edda6f99",
   "metadata": {},
   "source": [
    "EXES: Data inspection\n",
    "================\n",
    "* **Aim**: Extract grism data with a user-defined aperture. <br />\n",
    "* **Data**: Level 3 grism data of the IK Tau. <br />\n",
    "* **Tools**: astropy<br />\n",
    "* **Instrument**: EXES<br />\n",
    "* **Documentation**: [EXES data handbook](https://www.sofia.usra.edu/sites/default/files/USpot_DCS_DPS/Documents/EXES_GO-DataHandbook.pdf)\n",
    "* **Notebook repository**: https://github.com/SOFIAObservatory/Recipes"
   ]
  },
  {
   "cell_type": "markdown",
   "id": "e3775d85",
   "metadata": {},
   "source": [
    "Goals\n",
    "-------\n",
    "* Inspect EXES data structure\n",
    "* Plot EXES spectrum along with Telluric and synthetix water models"
   ]
  },
  {
   "cell_type": "markdown",
   "id": "25c74634",
   "metadata": {},
   "source": [
    "Introduction\n",
    "----------\n",
    "\n",
    "In this tutorial we will go through the process of open the Level 3 grism data and plotting a spectrum with respect to a simple atmospheric (ATRAN) model. The data set being used is the AGB star IK Tau. "
   ]
  },
  {
   "cell_type": "markdown",
   "id": "5bbc2aa5",
   "metadata": {},
   "source": [
    "Imports\n",
    "---------"
   ]
  },
  {
   "cell_type": "code",
   "execution_count": 1,
   "id": "6dd26763",
   "metadata": {
    "execution": {
     "iopub.execute_input": "2022-01-11T14:02:18.623174Z",
     "iopub.status.busy": "2022-01-11T14:02:18.622389Z",
     "iopub.status.idle": "2022-01-11T14:02:18.627516Z",
     "shell.execute_reply": "2022-01-11T14:02:18.628084Z"
    }
   },
   "outputs": [],
   "source": [
    "from astropy.io import fits\n",
    "from astropy.table import Table\n",
    "import matplotlib.colors as colors\n",
    "import matplotlib.cm as cm\n",
    "import matplotlib.pyplot as plt\n",
    "import astropy.units as u\n",
    "\n",
    "%matplotlib inline"
   ]
  },
  {
   "cell_type": "markdown",
   "id": "d812a57b",
   "metadata": {},
   "source": [
    "## Ingredients\n",
    "\n",
    "1. Level 3 (flux calibrated) FORCAST grism data (either CAL or CMB files) from the Infrared Science Archive ([IRSA](https://irsa.ipac.caltech.edu/Missions/sofia.html))\n",
    "\n",
    "#### You can download the example data directly [here](https://zenodo.org/record/5832202/files/iktau_feb2020_MRD.fits?download=1).\n",
    "\n",
    "[EXES GO Handbook](https://www.sofia.usra.edu/sites/default/files/USpot_DCS_DPS/Documents/EXES_GO-DataHandbook.pdf) for reference (latest version can be found on the [SOFIA Data Products](https://www.sofia.usra.edu/data/data-processing-0#DataHandbooks) page.)"
   ]
  },
  {
   "cell_type": "code",
   "execution_count": 2,
   "id": "dbda085a",
   "metadata": {
    "execution": {
     "iopub.execute_input": "2022-01-11T14:02:18.631854Z",
     "iopub.status.busy": "2022-01-11T14:02:18.631231Z",
     "iopub.status.idle": "2022-01-11T14:02:18.690443Z",
     "shell.execute_reply": "2022-01-11T14:02:18.691070Z"
    }
   },
   "outputs": [],
   "source": [
    "# import fits file\n",
    "file_name= '../example_data/EXES/iktau_feb2020_MRD.fits'\n",
    "hdu = fits.open(file_name)"
   ]
  },
  {
   "cell_type": "markdown",
   "id": "b369dd9f",
   "metadata": {},
   "source": [
    "## Data structure\n",
    "The Level 4 EXES data products are returned in a 2D fits file with 4 axis accompanied by header inforamtion. The data axis are \n",
    "* [0] Wavenumber\n",
    "* [1] flux\n",
    "* [2] uncertainty\n",
    "* [3] Default Default Atmospheric Transition (ATRAN) model"
   ]
  },
  {
   "cell_type": "code",
   "execution_count": 3,
   "id": "03c754c6",
   "metadata": {
    "execution": {
     "iopub.execute_input": "2022-01-11T14:02:18.719084Z",
     "iopub.status.busy": "2022-01-11T14:02:18.718247Z",
     "iopub.status.idle": "2022-01-11T14:02:18.721403Z",
     "shell.execute_reply": "2022-01-11T14:02:18.721859Z"
    }
   },
   "outputs": [
    {
     "data": {
      "text/plain": [
       "(4, 45562)"
      ]
     },
     "execution_count": 3,
     "metadata": {},
     "output_type": "execute_result"
    }
   ],
   "source": [
    "# fits file data structure\n",
    "hdu[0].data.shape"
   ]
  },
  {
   "cell_type": "code",
   "execution_count": 4,
   "id": "5d608090",
   "metadata": {
    "execution": {
     "iopub.execute_input": "2022-01-11T14:02:18.726577Z",
     "iopub.status.busy": "2022-01-11T14:02:18.725884Z",
     "iopub.status.idle": "2022-01-11T14:02:18.728395Z",
     "shell.execute_reply": "2022-01-11T14:02:18.728945Z"
    }
   },
   "outputs": [
    {
     "data": {
      "text/plain": [
       "SIMPLE  =                    T / Written by IDL:  Tue Feb 18 11:53:08 2020      \n",
       "BITPIX  =                  -64 /Real*8 (double precision)                       \n",
       "NAXIS   =                    2 /                                                \n",
       "NAXIS1  =                45562 /                                                \n",
       "NAXIS2  =                    4 /                                                \n",
       "ADDTIME =              172.385 / Effective on-source time                       \n",
       "AIRSPEED=              489.125 / knots, aircraft airspeed das.ic1080...         \n",
       "ALTI_END=              40011.0 / feet, aircraft altitude end fms.altitude)      \n",
       "ALTI_STA=              40014.0 / feet, aircraft altitude start das.ic1080_1     \n",
       "AOR_ID  = '06_0144_2'          / Astronomical Observation Request Identifie     \n",
       "AOT_ID  = 'UNKNOWN '           / Astronomical Obervation Template               \n",
       "ASSC_AOR= '06_0144_2'          / All input AOR-IDs                              \n",
       "BB_TEMP =              273.150 / blackbody 1 temperature reading                \n",
       "BEAMTIME=              3.00000 / Frtime*nframe*nspin*nsum                       \n",
       "BOUNCE  =              0.00000 / Debounce parameter                             \n",
       "BPM     = 'bpm_2015.02.06_right.fits' / Bad pixel mask                          \n",
       "BRL     =              0.00000 / Barrel (tort parameter)                        \n",
       "CARDMODE= 'BLKSKY  '           / Card mode                                      \n",
       "CHOPPING=                    F / chopping                                       \n",
       "CLOUD   =              0.00000 / Cloud identification parameter                 "
      ]
     },
     "execution_count": 4,
     "metadata": {},
     "output_type": "execute_result"
    }
   ],
   "source": [
    "# Diplay first 20 rows of header information \n",
    "hdu[0].header[0:20]"
   ]
  },
  {
   "cell_type": "code",
   "execution_count": 5,
   "id": "51529523",
   "metadata": {
    "execution": {
     "iopub.execute_input": "2022-01-11T14:02:18.732455Z",
     "iopub.status.busy": "2022-01-11T14:02:18.731754Z",
     "iopub.status.idle": "2022-01-11T14:02:18.736242Z",
     "shell.execute_reply": "2022-01-11T14:02:18.736687Z"
    }
   },
   "outputs": [
    {
     "data": {
      "text/plain": [
       "array([[ 7.01745789e+02,  7.01746643e+02,  7.01747559e+02, ...,\n",
       "         7.42974792e+02,  7.42975708e+02,  7.42976624e+02],\n",
       "       [-2.20898128e+00, -7.45479393e+00, -4.06299877e+00, ...,\n",
       "         1.46986710e+02,  1.49695770e+02,  1.51306870e+02],\n",
       "       [ 1.19618416e+01,  1.22323246e+01,  1.21103344e+01, ...,\n",
       "         9.83231258e+00,  9.87648964e+00,  9.93135738e+00],\n",
       "       [            nan,  7.64626384e-06,  1.20288569e-05, ...,\n",
       "         9.18215811e-01,             nan,             nan]])"
      ]
     },
     "execution_count": 5,
     "metadata": {},
     "output_type": "execute_result"
    }
   ],
   "source": [
    "# location of the data\n",
    "hdu[0].data"
   ]
  },
  {
   "cell_type": "code",
   "execution_count": 6,
   "id": "c3bfd020",
   "metadata": {
    "execution": {
     "iopub.execute_input": "2022-01-11T14:02:18.741018Z",
     "iopub.status.busy": "2022-01-11T14:02:18.740411Z",
     "iopub.status.idle": "2022-01-11T14:02:18.745034Z",
     "shell.execute_reply": "2022-01-11T14:02:18.745446Z"
    }
   },
   "outputs": [],
   "source": [
    "# data columns to variables with units\n",
    "wavenumber = hdu[0].data[0]\n",
    "flux_unit = u.erg * u.s ** (-1) * (u.cm) ** -2 * u.sr ** (-1)\n",
    "flux = hdu[0].data[1] * flux_unit\n",
    "uncertainty = hdu[0].data[2] * flux_unit\n",
    "atran = hdu[0].data[3]"
   ]
  },
  {
   "cell_type": "markdown",
   "id": "bdbeb0ec",
   "metadata": {},
   "source": [
    "## Flux units\n",
    "The incidents counts on the EXES detector are processed and returned as a flux in erg s-1 cm-2 sr-1. The uncertainty is calculated similarly, yet is not as accurate as listed. Uncertainties are typically in the range of 20\\%."
   ]
  },
  {
   "cell_type": "markdown",
   "id": "cdb9a1c7",
   "metadata": {},
   "source": [
    "## Plot a spectrum"
   ]
  },
  {
   "cell_type": "code",
   "execution_count": null,
   "id": "bbf59f5e",
   "metadata": {
    "execution": {
     "iopub.execute_input": "2022-01-11T14:02:18.760314Z",
     "iopub.status.busy": "2022-01-11T14:02:18.751711Z",
     "iopub.status.idle": "2022-01-11T14:02:20.245839Z",
     "shell.execute_reply": "2022-01-11T14:02:20.246228Z"
    },
    "scrolled": true
   },
   "outputs": [],
   "source": [
    "# Plot the whole spectrum\n",
    "fig = plt.figure(figsize=(15, 5))\n",
    "ax1 = fig.add_subplot(1, 1, 1)\n",
    "ax2 = ax1.twinx()\n",
    "ax1.plot(wavenumber, flux, lw=0.5, c=\"k\")\n",
    "ax2.plot(wavenumber, atran, lw=0.75, c=\"r\", linestyle=\":\", label=\"Telluric (ATRAN)\")\n",
    "ax1.set_ylabel(r\"Flux (erg s$^{-1}$ cm$^{-2}$ sr$^{-1}$)\")\n",
    "ax1.set_xlabel(\"Wavenumber\")\n",
    "plt.legend()\n",
    "plt.title(\"IK Tau\")\n",
    "plt.show()"
   ]
  },
  {
   "cell_type": "markdown",
   "id": "8b6e4ee3",
   "metadata": {},
   "source": [
    "Plot spectral line models\n",
    "-----------------------\n"
   ]
  },
  {
   "cell_type": "code",
   "execution_count": null,
   "id": "cecdb8dd",
   "metadata": {
    "execution": {
     "iopub.execute_input": "2022-01-11T14:02:20.250865Z",
     "iopub.status.busy": "2022-01-11T14:02:20.250318Z",
     "iopub.status.idle": "2022-01-11T14:02:21.609667Z",
     "shell.execute_reply": "2022-01-11T14:02:21.610016Z"
    }
   },
   "outputs": [],
   "source": [
    "# load an example synthetic HITRAN models for H2O at 1500 K\n",
    "water_model = Table.read(\n",
    "    \"../example_data/EXES/H2O_700to800_1500K_1.0e19_6kms.txt\",\n",
    "    format=\"ascii\",\n",
    "    names=(\"wavenumber\", \"flux\"),\n",
    ")"
   ]
  },
  {
   "cell_type": "code",
   "execution_count": null,
   "id": "da37f373",
   "metadata": {
    "execution": {
     "iopub.execute_input": "2022-01-11T14:02:21.615221Z",
     "iopub.status.busy": "2022-01-11T14:02:21.614535Z",
     "iopub.status.idle": "2022-01-11T14:02:21.616867Z",
     "shell.execute_reply": "2022-01-11T14:02:21.617275Z"
    }
   },
   "outputs": [],
   "source": [
    "# inspect synthetic water model\n",
    "water_model[0:5]"
   ]
  },
  {
   "cell_type": "markdown",
   "id": "b5c06153",
   "metadata": {},
   "source": [
    "We will plot subsets of the data and the models in wavelength space."
   ]
  },
  {
   "cell_type": "code",
   "execution_count": null,
   "id": "c69208df",
   "metadata": {
    "execution": {
     "iopub.execute_input": "2022-01-11T14:02:21.620702Z",
     "iopub.status.busy": "2022-01-11T14:02:21.620066Z",
     "iopub.status.idle": "2022-01-11T14:02:21.622427Z",
     "shell.execute_reply": "2022-01-11T14:02:21.622772Z"
    }
   },
   "outputs": [],
   "source": [
    "# create new variables for wavelength in um\n",
    "wavelength_um = 1 / wavenumber * 1e4  # convert wavenumber (cm^-1) to wavelength in um\n",
    "water_model[\"wavelength_um\"] = 1 / water_model[\"wavenumber\"] * 1e4"
   ]
  },
  {
   "cell_type": "code",
   "execution_count": null,
   "id": "9ef781fb",
   "metadata": {
    "execution": {
     "iopub.execute_input": "2022-01-11T14:02:21.666704Z",
     "iopub.status.busy": "2022-01-11T14:02:21.666054Z",
     "iopub.status.idle": "2022-01-11T14:02:21.667774Z",
     "shell.execute_reply": "2022-01-11T14:02:21.668289Z"
    }
   },
   "outputs": [],
   "source": [
    "# Function to plot specified xrange of spectrum\n",
    "def plot_window(xmin, xmax):\n",
    "    # Create axes\n",
    "    fig = plt.figure(figsize=(15, 5))\n",
    "    ax1 = fig.add_subplot(1, 1, 1)\n",
    "    # create second axis to overplot ATRAN\n",
    "    ax2 = ax1.twinx()\n",
    "    # hide axis labels and ticks\n",
    "    ax2.set_yticks([])\n",
    "\n",
    "    # plot data\n",
    "    ax1.plot(wavelength_um, flux, lw=0.5, c=\"k\")\n",
    "\n",
    "    # plot Atmospheric model (ATRAN)\n",
    "    ax2.plot(\n",
    "        wavelength_um, atran, lw=0.75, c=\"r\", linestyle=\":\", label=\"Telluric (ATRAN)\"\n",
    "    )\n",
    "\n",
    "    # plot synthetic water model\n",
    "    ax2.plot(\n",
    "        water_model[\"wavelength_um\"],\n",
    "        water_model[\"flux\"],\n",
    "        lw=0.75,\n",
    "        c=\"b\",\n",
    "        linestyle=\":\",\n",
    "        label=r\"H$_2$O (1500\\,K)\",\n",
    "    )\n",
    "\n",
    "    # set axis labels\n",
    "    ax1.set_ylabel(r\"Flux (erg s$^{-1}$ cm$^{-2}$ sr$^{-1}$)\")\n",
    "    ax1.set_xlabel(r\"Wavelength ($\\mu$m)\")\n",
    "\n",
    "    # set x axis limits\n",
    "    ax1.set_xlim(xmin, xmax)\n",
    "\n",
    "    plt.legend(loc=\"lower right\")\n",
    "    plt.title(\"IK Tau\")\n",
    "    return fig, ax1, ax2"
   ]
  },
  {
   "cell_type": "code",
   "execution_count": null,
   "id": "6a699151",
   "metadata": {
    "execution": {
     "iopub.execute_input": "2022-01-11T14:02:21.683138Z",
     "iopub.status.busy": "2022-01-11T14:02:21.682577Z",
     "iopub.status.idle": "2022-01-11T14:02:22.093810Z",
     "shell.execute_reply": "2022-01-11T14:02:22.094172Z"
    },
    "scrolled": true
   },
   "outputs": [],
   "source": [
    "# Spectral window plots\n",
    "fig, ax1, ax2 = plot_window(13.635, 13.724)\n",
    "plt.show()\n",
    "\n",
    "fig, ax1, ax2 = plot_window(13.634, 13.672)\n",
    "ax1.set_ylim(50, 210)\n",
    "plt.show()"
   ]
  },
  {
   "cell_type": "markdown",
   "id": "d896a977",
   "metadata": {},
   "source": [
    "We see evidence of a water absorption feature around 13.652 $\\mu$m.\n",
    "\n",
    "To subtract out the effects of the atmosphere we need to do a better job of modeling and fitting the target spectrum. \n",
    "\n",
    "See the EXES: Telluric Correction notebook for more details on this process. "
   ]
  }
 ],
 "metadata": {
  "kernelspec": {
   "display_name": "Python 3 (ipykernel)",
   "language": "python",
   "name": "python3"
  },
  "language_info": {
   "codemirror_mode": {
    "name": "ipython",
    "version": 3
   },
   "file_extension": ".py",
   "mimetype": "text/x-python",
   "name": "python",
   "nbconvert_exporter": "python",
   "pygments_lexer": "ipython3",
   "version": "3.9.7"
  }
 },
 "nbformat": 4,
 "nbformat_minor": 5
}
