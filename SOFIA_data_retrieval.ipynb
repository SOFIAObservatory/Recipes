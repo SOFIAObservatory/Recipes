{
 "cells": [
  {
   "cell_type": "markdown",
   "metadata": {},
   "source": [
    "SOFIA data retrieval\n",
    "=============\n",
    "* **Aim**: Download SOFIA data through the Infrared Science Archive [(IRSA)](https://irsa.ipac.caltech.edu/applications/sofia/)<br />\n",
    "* **Data**: 30 Doradus HAWC+ public dataset<br />\n",
    "* **Instrument**: All<br />\n",
    "* **Documentation**: [Science Archive](https://www.sofia.usra.edu/data/science-archive).<br />\n",
    "* **Notebook repository**: https://github.com/SOFIAObservatory/Recipes"
   ]
  },
  {
   "cell_type": "markdown",
   "metadata": {},
   "source": [
    "Goals:\n",
    "----------\n",
    "* Download data manually through the IRSA [website](https://irsa.ipac.caltech.edu/applications/sofia/)\n",
    "* Explore file structure"
   ]
  },
  {
   "cell_type": "markdown",
   "metadata": {},
   "source": [
    "## Introduction\n",
    "In this `jupyter` recipe, we explain how to download SOFIA data through the Infrared Science Archive [(IRSA)](https://irsa.ipac.caltech.edu/applications/sofia/). We will be downloading HAWC+ data of 30 Doradus using different keywords.\n",
    "\n",
    "This data was also featured recently in a SOFIA press release: [SOFIA Reveals Never-Before-Seen Magnetic Field Details](https://www.sofia.usra.edu/multimedia/science-results-archive/sofia-reveals-never-seen-magnetic-field-details).\n",
    "\n",
    "A video describing this process is also available on [Youtube](https://www.youtube.com/watch?v=4vRTF1cgHZM&list=PL3UuvF_s8KWJQWu7bjlXMWZ7QRwL4DPRl&index=3)."
   ]
  },
  {
   "cell_type": "markdown",
   "metadata": {},
   "source": [
    "## Downloading HAWC+ Data\n",
    "\n",
    "In https://irsa.ipac.caltech.edu/applications/sofia/, fill in the following fields\n",
    "- Spatial constraints:\n",
    "  - Coordinates or object name: `30 Dor`\n",
    "  - Radius: `600 arcseconds`\n",
    "- Click on the arrow next to Observation Constraints to open the drop-down options. \n",
    "- Instrument Constraints\n",
    "  - Select `HAWC+`\n",
    "- Data Product Constraints:\n",
    "  - Processing Level: `Level 4` (both Level 3 and 4 are science-ready products)\n",
    "  - Click the `Search` button\n",
    "- After the results load, in the AOR tab, select the checkboxes next to the Column header AOR ID to select all data files from all selected AORs. All files should now have a blue check indicating selection. \n",
    "- Click `Prepare Download`\n",
    "- Fill in Title as `HAWC+_example_data`\n",
    "- Click `Prepare Download`\n",
    "- After a few minutes, the corresponding data will be downloaded locally.\n",
    "- For more information, consult the [HAWC+ Data Handbook](https://www.sofia.usra.edu/sites/default/files/Instruments/HAWC_PLUS/Documents/hawc_data_handbook.pdf)."
   ]
  },
  {
   "cell_type": "markdown",
   "metadata": {},
   "source": [
    "![ISRA Search Results](figs/isra_results.png)"
   ]
  },
  {
   "cell_type": "markdown",
   "metadata": {},
   "source": [
    "The results appear in two tabs. The AOR tab shows the list of quieried AORs, and the HAWC+ tab shows the list of queried files (Level 4 fits files), including descriptions of each file metadata (details file) and data viewing features.  \"Quality Assurance\" comments associated to each AOR can be found in the AOR tab (shown with the red ellipse). \"Quality Assurance\" comments associated to each file can be found in the HAWC+ tab - in the HISTORY key of each file's header (accessible from the Data tab). Those comments include specific notes from the instrument scientists about data quality, observing complications, and if the observation was an aquisition/calibration observations. "
   ]
  },
  {
   "cell_type": "markdown",
   "metadata": {},
   "source": [
    "Data levels\n",
    "------------\n",
    "\n",
    "Currently, there are five levels of SOFIA data products:\n",
    "\n",
    "- Level 0: raw SI data in standardized format (HAWC+ only)\n",
    "\n",
    "- Level 1: raw SI data in standardized format (FITS);  for HAWC+, the demodulated (chop and nod subtracted) data comprise Level 1\n",
    "\n",
    "- Level 2: data corrected for instrument artifacts (e.g. flat-fielded, dark-subtracted, bad pixels removed)\n",
    "\n",
    "- Level 3: flux calibrated and telluric corrected data (using FITS keywords; Jy/pix)\n",
    "\n",
    "- Level 4: Level 4 data products comprise everything beyond flux calibrated (Level 3) products. Any data product generated from the combination of Level 3 files (e.g., a map or a mosaic) is considered a Level 4 product. For most instruments, Level 4 data products are usually generated from observations obtained across multiple flights or even multiple flight series and observing cycles. For HAWC+ nod-pol observations, the data product that includes the polarization vectors is Level 4."
   ]
  },
  {
   "cell_type": "markdown",
   "metadata": {},
   "source": [
    "## SOFIA Data Organization\n",
    "After downloading the SOFIA data to your working directory you will want to unzip it, which will produce a directory structure like this:"
   ]
  },
  {
   "cell_type": "markdown",
   "metadata": {},
   "source": [
    "```console\n",
    ".\n",
    "└── HAWC+_example_data\n",
    "    ├── level4\n",
    "    │   └── p5813\n",
    "    │       └── F0484_HA_POL_7600018_HAWCHWPC_PMP_022-114.fits\n",
    "    └── missions\n",
    "        ├── 2018-07-05_HA_F481\n",
    "        │   └── p5827\n",
    "        │       └── F0481_HA_POL_7600012_HAWDHWPD_PMP_050-083.fits\n",
    "        ├── 2018-07-07_HA_F483\n",
    "        │   └── p5646\n",
    "        │       └── F0483_HA_POL_7600014_HAWCHWPC_PMP_022-065.fits\n",
    "        ├── 2018-07-11_HA_F484\n",
    "        │   └── p5648\n",
    "        │       └── F0484_HA_POL_7600017_HAWCHWPC_PMP_065-114.fits\n",
    "        └── 2018-07-12_HA_F485\n",
    "            └── p5658\n",
    "                ├── g1\n",
    "                │   └── F0485_HA_POL_76000110_HAWAHWPA_PMP_043-052.fits\n",
    "                └── g2\n",
    "                    └── F0485_HA_POL_7600019_HAWEHWPE_PMP_055-075.fits\n",
    "```"
   ]
  },
  {
   "cell_type": "markdown",
   "metadata": {},
   "source": [
    "Note the following features of this data bundle.\n",
    "\n",
    "- Each `fits` file in the 'missions' directory corresponds to data from a single AOR (or a different filter element) obtained on a single flight\n",
    "- Each subdirectory under missions corresponds to a single flight\n",
    "- `fits` files under 'level4' correspond to data combined from several flights\n",
    "- If multiple filters were observed on the same flight, they will be further divided into subdirectories (g1/g2 on the last line)\n",
    "\n",
    "Note that two observations were made with the same filter (HAWC C, $89\\,\\mathrm{\\mu m}$).  These files, `F0483_HA_POL_7600014_HAWCHWPC_PMP_022-065.fits` and `F0484_HA_POL_7600017_HAWCHWPC_PMP_065-114.fits`, were combined into one:\n",
    "\n",
    "`level4->p5813->F0484_HA_POL_7600018_HAWCHWPC_PMP_022-114.fits`."
   ]
  },
  {
   "cell_type": "markdown",
   "metadata": {},
   "source": [
    "You can choose to keep the `fits` files nested, or copy them into one directory."
   ]
  },
  {
   "cell_type": "markdown",
   "metadata": {},
   "source": [
    "```console\n",
    ".\n",
    "└── sofia_data\n",
    "    ├── F0481_HA_POL_7600012_HAWDHWPD_PMP_050-083.fits\n",
    "    ├── F0483_HA_POL_7600014_HAWCHWPC_PMP_022-065.fits\n",
    "    ├── F0484_HA_POL_7600017_HAWCHWPC_PMP_065-114.fits\n",
    "    ├── F0484_HA_POL_7600018_HAWCHWPC_PMP_022-114.fits\n",
    "    ├── F0485_HA_POL_76000110_HAWAHWPA_PMP_043-052.fits\n",
    "    └── F0485_HA_POL_7600019_HAWEHWPE_PMP_055-075.fits\n",
    "```"
   ]
  }
 ],
 "metadata": {
  "kernelspec": {
   "display_name": "Python 3 (ipykernel)",
   "language": "python",
   "name": "python3"
  },
  "language_info": {
   "codemirror_mode": {
    "name": "ipython",
    "version": 3
   },
   "file_extension": ".py",
   "mimetype": "text/x-python",
   "name": "python",
   "nbconvert_exporter": "python",
   "pygments_lexer": "ipython3",
   "version": "3.9.7"
  }
 },
 "nbformat": 4,
 "nbformat_minor": 4
}
