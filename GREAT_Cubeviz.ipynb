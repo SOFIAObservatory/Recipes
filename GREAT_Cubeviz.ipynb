{
 "cells": [
  {
   "cell_type": "markdown",
   "id": "9454e65b",
   "metadata": {},
   "source": [
    "GREAT: data inspection (python)\n",
    "================\n",
    "* **Aim**: Visualize GREAT datacube using the jdaviz tool, Cubeviz. <br />\n",
    "* **Data**: Level 3 data. <br />\n",
    "* **Tools**: jdaviz, Cubeviz <br />\n",
    "* **Instrument**: GREAT <br />\n",
    "* **Documentation**: [GREAT observer's handbook](https://www.sofia.usra.edu/instruments/great)\n",
    "* **Notebook repository**: https://github.com/SOFIAObservatory/Recipes"
   ]
  },
  {
   "cell_type": "markdown",
   "id": "90973780",
   "metadata": {},
   "source": [
    "Goals\n",
    "-------\n",
    "* Visualize GREAT data\n",
    "* Pan through 2D image slices using spectral viewer"
   ]
  },
  {
   "cell_type": "markdown",
   "id": "ddb0e4ab",
   "metadata": {},
   "source": [
    "Introduction\n",
    "--------------\n",
    "\n",
    "This recipe is a beginner's introduction to visualizing GREAT datacubes using the [jdaviz](https://jdaviz.readthedocs.io/en/latest/) tool Cubeviz. This is one of several tools in the STScI data analysis tool ecosystem. A video tutorial for the general functionality of the tool cav be found [here](https://www.youtube.com/watch?v=HMSYwiH3Gl4)."
   ]
  },
  {
   "cell_type": "markdown",
   "id": "4534c60f",
   "metadata": {},
   "source": [
    "Imports \n",
    "---------------"
   ]
  },
  {
   "cell_type": "code",
   "execution_count": 1,
   "id": "1bc92a71",
   "metadata": {},
   "outputs": [],
   "source": [
    "import specutils\n",
    "import jdaviz\n",
    "import numpy as np\n",
    "from astropy.io import fits\n",
    "from astropy.wcs import WCS\n",
    "from astropy import units as u\n",
    "from astropy.utils.data import download_file\n",
    "import warnings\n",
    "warnings.simplefilter('ignore')\n"
   ]
  },
  {
   "cell_type": "markdown",
   "id": "8c362b58",
   "metadata": {},
   "source": [
    "Ingredients\n",
    "---------------\n",
    "\n",
    "The data come from the [C II Maps in Massive Star Formation Regions](https://www.sofia.usra.edu/data/selected-highlights-data-archive/star-formation/new-c-ii-maps-massive-star-formation-regions) from the FEEDBACK survey. \n",
    "\n",
    "#### The slice of the data used in this tutorial can be downloaded directly [here](https://zenodo.org/record/5799455/files/FEEDBACK_RCW120_GREAT_example_subset.fits?download=1), \n",
    "\n",
    "You can download the full Level 4 dataset via the [IRSA archive](https://irsa.ipac.caltech.edu/Missions/sofia.html) using the program_ID: 07_0077.\n"
   ]
  },
  {
   "cell_type": "code",
   "execution_count": 2,
   "id": "c2e94cd8-6c7c-49ba-9ae2-0ee8219bf4f0",
   "metadata": {},
   "outputs": [],
   "source": [
    "#load data\n",
    "fn = download_file('https://zenodo.org/record/5799455/files/FEEDBACK_RCW120_GREAT_example_subset.fits?download=1', cache=True)\n",
    "f = fits.open(fn)\n",
    "spec = specutils.Spectrum1D(flux=f[0].data*u.K, wcs=WCS(f[0]))"
   ]
  },
  {
   "cell_type": "code",
   "execution_count": 7,
   "id": "31146d3d-7d28-4ad4-85d5-ee8457e70c33",
   "metadata": {
    "scrolled": false
   },
   "outputs": [
    {
     "data": {
      "application/vnd.jupyter.widget-view+json": {
       "model_id": "c352f32e001b4b74afbb243c30194d32",
       "version_major": 2,
       "version_minor": 0
      },
      "text/plain": [
       "Application(config='cubeviz', events=['call_viewer_method', 'close_snackbar_message', 'data_item_selected', 'd…"
      ]
     },
     "metadata": {},
     "output_type": "display_data"
    },
    {
     "data": {
      "application/vnd.jupyter.widget-view+json": {
       "model_id": "c352f32e001b4b74afbb243c30194d32",
       "version_major": 2,
       "version_minor": 0
      },
      "text/plain": [
       "Application(config='cubeviz', events=['call_viewer_method', 'close_snackbar_message', 'data_item_selected', 'd…"
      ]
     },
     "metadata": {},
     "output_type": "display_data"
    }
   ],
   "source": [
    "viz = jdaviz.CubeViz()\n",
    "viz.show_inline()\n",
    "viz.load_data(spec)"
   ]
  },
  {
   "cell_type": "markdown",
   "id": "0f757245",
   "metadata": {},
   "source": [
    "The interface is based on [Glue](https://glueviz.org/), and so you can change the appearance, range, scale, and variables. You can also plot a smoother version of the spectra, plot available line lists, create moment maps, change units, and export the specrtum. \n",
    "\n",
    "See [Youtube tutorial](https://www.youtube.com/watch?v=HMSYwiH3Gl4) for more details. "
   ]
  },
  {
   "cell_type": "markdown",
   "id": "07800737",
   "metadata": {},
   "source": [
    " "
   ]
  }
 ],
 "metadata": {
  "kernelspec": {
   "display_name": "Python 3 (ipykernel)",
   "language": "python",
   "name": "python3"
  },
  "language_info": {
   "codemirror_mode": {
    "name": "ipython",
    "version": 3
   },
   "file_extension": ".py",
   "mimetype": "text/x-python",
   "name": "python",
   "nbconvert_exporter": "python",
   "pygments_lexer": "ipython3",
   "version": "3.9.7"
  }
 },
 "nbformat": 4,
 "nbformat_minor": 5
}
